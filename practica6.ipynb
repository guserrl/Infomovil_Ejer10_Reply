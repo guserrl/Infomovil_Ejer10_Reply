{
  "cells": [
    {
      "cell_type": "markdown",
      "metadata": {
        "id": "view-in-github",
        "colab_type": "text"
      },
      "source": [
        "<a href=\"https://colab.research.google.com/github/guserrl/Infomovil_Ejer10_Reply/blob/master/practica6.ipynb\" target=\"_parent\"><img src=\"https://colab.research.google.com/assets/colab-badge.svg\" alt=\"Open In Colab\"/></a>"
      ]
    },
    {
      "cell_type": "markdown",
      "metadata": {
        "id": "z-wgUvP4ZBfI"
      },
      "source": [
        "# Práctica 6: Aprendizaje supervisado II\n",
        "\n",
        "Esta práctica tiene como objetivos:\n",
        "- Evaluar algoritmos de clasificación.\n",
        "- Ajustar hiperparámetros.\n",
        "\n",
        "Además de este notebook tienes dos notebooks con ejercicios adicionales.  "
      ]
    },
    {
      "cell_type": "markdown",
      "metadata": {
        "id": "a5hKRjoIZBfN"
      },
      "source": [
        "## Evaluando la clasificación binaria\n",
        "\n",
        "Empieza ejecutando el siguiente comando para que no se muestren los warnings. "
      ]
    },
    {
      "cell_type": "code",
      "execution_count": 1,
      "metadata": {
        "id": "SJO1_5NaZBfO"
      },
      "outputs": [],
      "source": [
        "import warnings; warnings.simplefilter('ignore')"
      ]
    },
    {
      "cell_type": "markdown",
      "metadata": {
        "id": "O4rZc2jiZBfQ"
      },
      "source": [
        "### 0. Carga de datos\n",
        "\n",
        "Descarga el fichero de pima-indians-diabetes como realizamos en prácticas anteriores. "
      ]
    },
    {
      "cell_type": "code",
      "execution_count": 2,
      "metadata": {
        "id": "Jt4eLX02ZBfR",
        "outputId": "31ff154b-8fd9-4d33-9d28-c5a2adc89eb0",
        "colab": {
          "base_uri": "https://localhost:8080/"
        }
      },
      "outputs": [
        {
          "output_type": "stream",
          "name": "stdout",
          "text": [
            "--2023-03-27 13:30:18--  https://raw.githubusercontent.com/IA1819/Datasets/master/pima-indians-diabetes.csv\n",
            "Resolving raw.githubusercontent.com (raw.githubusercontent.com)... 185.199.108.133, 185.199.109.133, 185.199.110.133, ...\n",
            "Connecting to raw.githubusercontent.com (raw.githubusercontent.com)|185.199.108.133|:443... connected.\n",
            "HTTP request sent, awaiting response... 200 OK\n",
            "Length: 23279 (23K) [text/plain]\n",
            "Saving to: ‘pima-indians-diabetes.csv’\n",
            "\n",
            "pima-indians-diabet 100%[===================>]  22.73K  --.-KB/s    in 0.001s  \n",
            "\n",
            "2023-03-27 13:30:19 (32.9 MB/s) - ‘pima-indians-diabetes.csv’ saved [23279/23279]\n",
            "\n"
          ]
        }
      ],
      "source": [
        "!wget https://raw.githubusercontent.com/IA1819/Datasets/master/pima-indians-diabetes.csv -O pima-indians-diabetes.csv\n",
        "import pandas as pd\n",
        "df = pd.read_csv('pima-indians-diabetes.csv',header=None)"
      ]
    },
    {
      "cell_type": "markdown",
      "metadata": {
        "id": "YZDhB4wIZBfR"
      },
      "source": [
        "##### Ejercicio\n",
        "Carga los datos del fichero pima-indians-diabetes.csv utilizando la librería pandas como hicimos en prácticas anteriores. Almacena los vectores de descriptores en una variable X y las etiquetas en una variable Y."
      ]
    },
    {
      "cell_type": "code",
      "execution_count": 3,
      "metadata": {
        "collapsed": true,
        "id": "IvEjoJt5ZBfR"
      },
      "outputs": [],
      "source": [
        "X = df.values[:,:-1]\n",
        "Y = df.values[:,-1]"
      ]
    },
    {
      "cell_type": "markdown",
      "metadata": {
        "id": "eEo3f1l6ZBfT"
      },
      "source": [
        "### 1. Partición de conjunto de entrenamiento y test\n",
        "\n",
        "Como vimos en clase es muy importante separar el conjunto de instancias en dos grupos: el conjunto de entrenamiento y el conjunto de test. Para ello, podemos utilizar la función train_test_split de la librería sklearn."
      ]
    },
    {
      "cell_type": "code",
      "execution_count": 4,
      "metadata": {
        "collapsed": true,
        "id": "5Oej4DHiZBfU"
      },
      "outputs": [],
      "source": [
        "from sklearn.model_selection import train_test_split"
      ]
    },
    {
      "cell_type": "markdown",
      "metadata": {
        "id": "XYyY4p-KZBfV"
      },
      "source": [
        "A la función train_test_split le vamos a pasar 4 parámetros:\n",
        "  - las instancias de nuestro dataset (sin etiqueta), es decir X,\n",
        "  - las etiquetas (es decir Y),\n",
        "  - el porcentage del dataset que se utilizará para el conjunto de test\n",
        "    (en este caso 0.25).\n",
        "  - el estado aleatorio: un número para poder reproducir los resultados.\n",
        "  \n",
        "El resultado devuelto por la función es una tupla de 4 elementos que contiene el conjunto de entrenamiento, el conjunto de test, las etiquetas  del conjunto de entrenamiento y las etiquetas del conjunto de test."
      ]
    },
    {
      "cell_type": "code",
      "execution_count": 5,
      "metadata": {
        "collapsed": true,
        "id": "2XQVk6NCZBfW"
      },
      "outputs": [],
      "source": [
        "(trainData, testData, trainLabels, testLabels) = train_test_split(X,Y,test_size=0.25, random_state=42)"
      ]
    },
    {
      "cell_type": "markdown",
      "metadata": {
        "id": "waoSUsuHZBfX"
      },
      "source": [
        "### 2. Entrenando distintos algoritmos y seleccionando los hiperparámetros\n",
        "\n",
        "##### Ejercicio\n",
        "Carga las distintas librerías que son necesarias para los clasificadores definidos en la práctica 5. En concreto vas a construir clasificadores utilizando los algoritmos:\n",
        " - KNN\n",
        " - Árboles de decisión\n",
        " - Regresión logística\n",
        " - SVM\n",
        " - Redes neuronales"
      ]
    },
    {
      "cell_type": "code",
      "execution_count": 6,
      "metadata": {
        "collapsed": true,
        "id": "WC6fnGnVZBfX"
      },
      "outputs": [],
      "source": [
        "from sklearn.neighbors import KNeighborsClassifier\n",
        "from sklearn.tree import DecisionTreeClassifier\n",
        "from sklearn.tree import export_graphviz\n",
        "from sklearn.linear_model import LogisticRegression\n",
        "from sklearn.svm import SVC\n",
        "from sklearn.linear_model import Perceptron"
      ]
    },
    {
      "cell_type": "markdown",
      "metadata": {
        "id": "8OWDJWF5ZBfX"
      },
      "source": [
        "#### 2.1.  Validación manual (holdout)\n",
        "\n",
        "La primera alternativa para seleccionar los hiperparámetros consiste en reservar una parte de las instancias del training set para validación, y probar distintos hiperparámetros de manera manual para ver cuál es la mejor solución con cada uno de ellos. Para ello utilizamos de nuevo la función `train_test_split`."
      ]
    },
    {
      "cell_type": "code",
      "execution_count": 7,
      "metadata": {
        "collapsed": true,
        "id": "QBrQLee5ZBfY"
      },
      "outputs": [],
      "source": [
        "(trainData, valData, trainLabels, valLabels) = train_test_split(trainData, trainLabels,\n",
        "                                                                test_size=0.1, random_state=84)"
      ]
    },
    {
      "cell_type": "markdown",
      "metadata": {
        "id": "fDXFJIIfZBfY"
      },
      "source": [
        "**KNN**\n",
        "\n",
        "Empezamos ajustando los hiperparámetros del algoritmo KNN propbando con valores de k entre 1  y 25."
      ]
    },
    {
      "cell_type": "code",
      "execution_count": 8,
      "metadata": {
        "collapsed": true,
        "id": "AwIALa_iZBfY",
        "outputId": "b11e712a-e516-4205-954e-9f3c820f379a",
        "colab": {
          "base_uri": "https://localhost:8080/"
        }
      },
      "outputs": [
        {
          "output_type": "stream",
          "name": "stdout",
          "text": [
            "k=1, precisión=67.24%\n",
            "k=3, precisión=77.59%\n",
            "k=5, precisión=74.14%\n",
            "k=7, precisión=77.59%\n",
            "k=9, precisión=75.86%\n",
            "k=11, precisión=74.14%\n",
            "k=13, precisión=74.14%\n",
            "k=15, precisión=74.14%\n",
            "k=17, precisión=75.86%\n",
            "k=19, precisión=75.86%\n",
            "k=21, precisión=75.86%\n",
            "k=23, precisión=74.14%\n",
            "k=25, precisión=75.86%\n"
          ]
        }
      ],
      "source": [
        "for k in range(1,26,2):\n",
        "    modelKNN = KNeighborsClassifier(n_neighbors=k)\n",
        "    modelKNN.fit(trainData, trainLabels)\n",
        "    score = modelKNN.score(valData,valLabels)\n",
        "    print(\"k=%d, precisión=%.2f%%\" % (k, score * 100))"
      ]
    },
    {
      "cell_type": "markdown",
      "metadata": {
        "id": "vw_G9MvGZBfZ"
      },
      "source": [
        "##### Pregunta\n",
        "Entre los valores anteriores, ¿con qué valor de k obtenemos mejor precisión?"
      ]
    },
    {
      "cell_type": "markdown",
      "source": [
        "Con k=9"
      ],
      "metadata": {
        "id": "0NCd_qWh6of1"
      }
    },
    {
      "cell_type": "markdown",
      "metadata": {
        "collapsed": true,
        "id": "RJUPOOkVZBfZ"
      },
      "source": [
        "Respuesta."
      ]
    },
    {
      "cell_type": "markdown",
      "metadata": {
        "id": "Wd5NBbXkZBfZ"
      },
      "source": [
        "**Árboles de decisión**\n",
        "\n",
        "Repite lo mismo visto para KNN para los árboles de decisión con el hiperparámetro min_samples_split con valores entre 2 y 10 avanzando de 1 en 1. Puedes ver lo que hace este hiperparámetro en la [documentación de sklearn](http://scikit-learn.org/stable/modules/tree.html).\n"
      ]
    },
    {
      "cell_type": "code",
      "execution_count": 9,
      "metadata": {
        "collapsed": true,
        "id": "CTk0523ZZBfZ",
        "outputId": "3e207108-2d23-4ba9-9e43-c57913486373",
        "colab": {
          "base_uri": "https://localhost:8080/"
        }
      },
      "outputs": [
        {
          "output_type": "stream",
          "name": "stdout",
          "text": [
            "min_samples_split=2, precisión=60.34%\n",
            "min_samples_split=3, precisión=65.52%\n",
            "min_samples_split=4, precisión=65.52%\n",
            "min_samples_split=5, precisión=65.52%\n",
            "min_samples_split=6, precisión=63.79%\n",
            "min_samples_split=7, precisión=63.79%\n",
            "min_samples_split=8, precisión=62.07%\n",
            "min_samples_split=9, precisión=62.07%\n",
            "min_samples_split=10, precisión=62.07%\n"
          ]
        }
      ],
      "source": [
        "for k in range(2,11,1):\n",
        "    modelArbol = DecisionTreeClassifier(min_samples_split=k)\n",
        "    modelArbol.fit(trainData, trainLabels)\n",
        "    score = modelArbol.score(valData,valLabels)\n",
        "    print(\"min_samples_split=%d, precisión=%.2f%%\" % (k, score * 100))"
      ]
    },
    {
      "cell_type": "markdown",
      "metadata": {
        "id": "p77GPtjqZBfa"
      },
      "source": [
        "##### Pregunta\n",
        "Entre los valores anteriores, ¿Con qué valor de min_samples_split obtenemos mejor precisión?\n"
      ]
    },
    {
      "cell_type": "markdown",
      "source": [
        "Con k=4"
      ],
      "metadata": {
        "id": "8XZywq887v9k"
      }
    },
    {
      "cell_type": "markdown",
      "metadata": {
        "collapsed": true,
        "id": "L68Z4X-wZBfa"
      },
      "source": [
        "Respuesta."
      ]
    },
    {
      "cell_type": "markdown",
      "metadata": {
        "id": "7kKA1p3eZBfa"
      },
      "source": [
        "**Regresión logística**\n",
        "\n",
        "Repite lo mismo visto para KNN para la regresión logística con C tomando los valores 0.1,1,10,100, y 1000."
      ]
    },
    {
      "cell_type": "code",
      "execution_count": 24,
      "metadata": {
        "collapsed": true,
        "id": "YPQStnNeZBfa",
        "outputId": "758464ad-95a7-4522-90b0-2ae23d3a6b5d",
        "colab": {
          "base_uri": "https://localhost:8080/"
        }
      },
      "outputs": [
        {
          "output_type": "stream",
          "name": "stdout",
          "text": [
            "C=0.100000, precisión=77.59%\n",
            "C=1.000000, precisión=77.59%\n",
            "C=10.000000, precisión=77.59%\n",
            "C=100.000000, precisión=77.59%\n",
            "C=1000.000000, precisión=77.59%\n"
          ]
        }
      ],
      "source": [
        "k=0.1\n",
        "while k<1001:\n",
        "    modelLR = LogisticRegression(C=k)\n",
        "    modelLR.fit(trainData, trainLabels)\n",
        "    score = modelLR.score(valData,valLabels)\n",
        "    print(\"C=%f, precisión=%.2f%%\" % (k, score * 100))\n",
        "    k=k*10"
      ]
    },
    {
      "cell_type": "markdown",
      "metadata": {
        "id": "xB8kViSuZBfa"
      },
      "source": [
        "##### Pregunta\n",
        "Entre los valores anteriores, ¿Con qué valor de C obtenemos mejor precisión?\n"
      ]
    },
    {
      "cell_type": "markdown",
      "metadata": {
        "collapsed": true,
        "id": "bkbs3TO7ZBfb"
      },
      "source": [
        "Respuesta. "
      ]
    },
    {
      "cell_type": "markdown",
      "source": [
        "Con cualquiera"
      ],
      "metadata": {
        "id": "f-kOLked-eX8"
      }
    },
    {
      "cell_type": "markdown",
      "metadata": {
        "id": "jPd_NRhdZBfb"
      },
      "source": [
        "#### 2.2. 10-fold cross validation \n",
        "\n",
        "Una alternativa al método anterior donde hacemos la separación del training set en training y validation de manera manual, consiste en utilizar el k-fold cross validation. Existen distintas alternativas para el k-fold cross validation en sklearn.\n",
        "\n",
        "Recuperamos lo primero todo nuestro conjunto de entrenamiento uniendo el conjunto de entrenamiento y el de validación."
      ]
    },
    {
      "cell_type": "code",
      "execution_count": 13,
      "metadata": {
        "collapsed": true,
        "id": "27rw3McgZBfb"
      },
      "outputs": [],
      "source": [
        "import numpy as np\n",
        "trainData=np.concatenate((trainData,valData),axis=0)\n",
        "trainLabels=np.concatenate((trainLabels,valLabels),axis=0)"
      ]
    },
    {
      "cell_type": "markdown",
      "metadata": {
        "id": "l_1VammAZBfb"
      },
      "source": [
        "**KNN**\n",
        "\n",
        "La manera más sencilla de utilizar el k-fold validation consiste en utilizar la función `cross_val_score`."
      ]
    },
    {
      "cell_type": "code",
      "execution_count": 14,
      "metadata": {
        "collapsed": true,
        "id": "I3-ZuA-bZBfc",
        "outputId": "4460fbd8-3f3f-4eee-ea5c-996c27749180",
        "colab": {
          "base_uri": "https://localhost:8080/"
        }
      },
      "outputs": [
        {
          "output_type": "stream",
          "name": "stdout",
          "text": [
            "k=1, Precisión: 0.71 (+/- 0.08)\n",
            "k=3, Precisión: 0.72 (+/- 0.08)\n",
            "k=5, Precisión: 0.74 (+/- 0.12)\n",
            "k=7, Precisión: 0.76 (+/- 0.10)\n",
            "k=9, Precisión: 0.77 (+/- 0.12)\n",
            "k=11, Precisión: 0.76 (+/- 0.12)\n",
            "k=13, Precisión: 0.76 (+/- 0.08)\n",
            "k=15, Precisión: 0.76 (+/- 0.07)\n",
            "k=17, Precisión: 0.75 (+/- 0.07)\n",
            "k=19, Precisión: 0.75 (+/- 0.07)\n",
            "k=21, Precisión: 0.75 (+/- 0.08)\n",
            "k=23, Precisión: 0.76 (+/- 0.09)\n",
            "k=25, Precisión: 0.75 (+/- 0.06)\n"
          ]
        }
      ],
      "source": [
        "from sklearn.model_selection import cross_val_score\n",
        "\n",
        "for k in range(1,26,2):\n",
        "    modelKNN = KNeighborsClassifier(n_neighbors=k)\n",
        "    scores = cross_val_score(modelKNN,trainData,trainLabels,cv=10)\n",
        "    print(\"k=%d, Precisión: %0.2f (+/- %0.2f)\" % (k, scores.mean(), scores.std() * 2))"
      ]
    },
    {
      "cell_type": "markdown",
      "metadata": {
        "id": "jP6_7xaAZBfc"
      },
      "source": [
        "##### Pregunta\n",
        "Entre los valores anteriores, ¿con qué valor de k obtenemos mejor precisión?"
      ]
    },
    {
      "cell_type": "markdown",
      "metadata": {
        "collapsed": true,
        "id": "vBviYUYPZBfc"
      },
      "source": [
        "Respuesta. "
      ]
    },
    {
      "cell_type": "markdown",
      "source": [
        "k=9"
      ],
      "metadata": {
        "id": "8cUp7Mgh-xS0"
      }
    },
    {
      "cell_type": "markdown",
      "metadata": {
        "id": "pb_pFiloZBfd"
      },
      "source": [
        "#### 2.3. K-fold combinado con GridSearch method\n",
        "\n",
        "La mejor manera de seleccionar hiperparámetros consiste en combinar el k-fold cross validation con técnicas de búsqueda como el GridSearch o RandomSearch."
      ]
    },
    {
      "cell_type": "markdown",
      "metadata": {
        "id": "JTsKr9RjZBfd"
      },
      "source": [
        "**SVM**\n",
        "\n",
        "Veámos primero cómo seleccionar los mejores hiperparámetros para la regresión logística usando GridSearch (que ya por debajo utiliza cross-validation)."
      ]
    },
    {
      "cell_type": "code",
      "execution_count": 25,
      "metadata": {
        "collapsed": true,
        "id": "cA1gWLwJZBfd"
      },
      "outputs": [],
      "source": [
        "from sklearn.model_selection import GridSearchCV"
      ]
    },
    {
      "cell_type": "markdown",
      "metadata": {
        "id": "TQESbdRZZBfe"
      },
      "source": [
        "Para utilizar este método debemos fijar: \n",
        "\n",
        "(1) el clasificador que vamos a utilizar"
      ]
    },
    {
      "cell_type": "code",
      "execution_count": 26,
      "metadata": {
        "collapsed": true,
        "id": "7pyHWIIPZBfe"
      },
      "outputs": [],
      "source": [
        "modelLR = LogisticRegression()"
      ]
    },
    {
      "cell_type": "markdown",
      "metadata": {
        "id": "CvbLxKxvZBfe"
      },
      "source": [
        "(2) el espacio de parámetros a buscar"
      ]
    },
    {
      "cell_type": "code",
      "execution_count": 27,
      "metadata": {
        "collapsed": true,
        "id": "ZsyCrxVPZBff"
      },
      "outputs": [],
      "source": [
        "tuned_parameters = [{'solver': ['newton-cg', 'lbfgs'], 'penalty': ['l2', 'none'],\n",
        "                     'C': [0.01, 0.1,1, 10]},\n",
        "                    {'solver': ['liblinear'], 'penalty': ['l2', 'l1'],\n",
        "                     'C': [0.01, 0.1,1, 10]}]"
      ]
    },
    {
      "cell_type": "markdown",
      "metadata": {
        "id": "GQsf7tGYZBff"
      },
      "source": [
        "(3) La función (o funciones) de evaluación."
      ]
    },
    {
      "cell_type": "code",
      "execution_count": 28,
      "metadata": {
        "collapsed": true,
        "id": "zUgrxaZEZBff"
      },
      "outputs": [],
      "source": [
        "scores = ['precision', 'recall']"
      ]
    },
    {
      "cell_type": "markdown",
      "metadata": {
        "id": "e7FTVuqrZBff"
      },
      "source": [
        "A continuación definimos una función que tomando estos parámetros, y el número de folds, busca el mejor conjunto de hiperparámetros a utilizar para el modelo dado. "
      ]
    },
    {
      "cell_type": "code",
      "execution_count": 29,
      "metadata": {
        "collapsed": true,
        "id": "Zd5rzF0BZBfg"
      },
      "outputs": [],
      "source": [
        "def gridsearch(model,parameters,scores,k):\n",
        "    for score in scores:\n",
        "        print(\"# Tuning hyper-parameters for %s\" % score)\n",
        "        print()\n",
        "\n",
        "        clf = GridSearchCV(model, parameters, cv=k,\n",
        "                           scoring='%s_macro' % score)\n",
        "        clf.fit(trainData, trainLabels)\n",
        "\n",
        "        print(\"Best parameters set found on development set:\")\n",
        "        print()\n",
        "        print(clf.best_params_)\n",
        "        print()\n",
        "        print(\"Grid scores on development set:\")\n",
        "        print()\n",
        "        means = clf.cv_results_['mean_test_score']\n",
        "        stds = clf.cv_results_['std_test_score']\n",
        "        for mean, std, params in zip(means, stds, clf.cv_results_['params']):\n",
        "            print(\"%0.3f (+/-%0.03f) for %r\"\n",
        "                  % (mean, std * 2, params))\n",
        "        print()"
      ]
    },
    {
      "cell_type": "markdown",
      "metadata": {
        "id": "5J567Ew9ZBfg"
      },
      "source": [
        "Por ejemplo, para buscar los mejores hiperparámetros para el modelo de regresión logística utilizamos la siguiente instrucción. La ejecución de la siguiente celda puede llevar bastante tiempo."
      ]
    },
    {
      "cell_type": "code",
      "execution_count": 30,
      "metadata": {
        "collapsed": true,
        "id": "jburaOVlZBfh",
        "outputId": "89f891f7-1f02-463f-d178-e1a3abfd9bd5",
        "colab": {
          "base_uri": "https://localhost:8080/"
        }
      },
      "outputs": [
        {
          "output_type": "stream",
          "name": "stdout",
          "text": [
            "CPU times: user 3 µs, sys: 0 ns, total: 3 µs\n",
            "Wall time: 7.39 µs\n",
            "# Tuning hyper-parameters for precision\n",
            "\n",
            "Best parameters set found on development set:\n",
            "\n",
            "{'C': 0.01, 'penalty': 'none', 'solver': 'lbfgs'}\n",
            "\n",
            "Grid scores on development set:\n",
            "\n",
            "0.766 (+/-0.056) for {'C': 0.01, 'penalty': 'l2', 'solver': 'newton-cg'}\n",
            "0.764 (+/-0.062) for {'C': 0.01, 'penalty': 'l2', 'solver': 'lbfgs'}\n",
            "0.762 (+/-0.061) for {'C': 0.01, 'penalty': 'none', 'solver': 'newton-cg'}\n",
            "0.767 (+/-0.061) for {'C': 0.01, 'penalty': 'none', 'solver': 'lbfgs'}\n",
            "0.756 (+/-0.072) for {'C': 0.1, 'penalty': 'l2', 'solver': 'newton-cg'}\n",
            "0.758 (+/-0.068) for {'C': 0.1, 'penalty': 'l2', 'solver': 'lbfgs'}\n",
            "0.762 (+/-0.061) for {'C': 0.1, 'penalty': 'none', 'solver': 'newton-cg'}\n",
            "0.767 (+/-0.061) for {'C': 0.1, 'penalty': 'none', 'solver': 'lbfgs'}\n",
            "0.760 (+/-0.068) for {'C': 1, 'penalty': 'l2', 'solver': 'newton-cg'}\n",
            "0.767 (+/-0.055) for {'C': 1, 'penalty': 'l2', 'solver': 'lbfgs'}\n",
            "0.762 (+/-0.061) for {'C': 1, 'penalty': 'none', 'solver': 'newton-cg'}\n",
            "0.767 (+/-0.061) for {'C': 1, 'penalty': 'none', 'solver': 'lbfgs'}\n",
            "0.760 (+/-0.068) for {'C': 10, 'penalty': 'l2', 'solver': 'newton-cg'}\n",
            "0.767 (+/-0.055) for {'C': 10, 'penalty': 'l2', 'solver': 'lbfgs'}\n",
            "0.762 (+/-0.061) for {'C': 10, 'penalty': 'none', 'solver': 'newton-cg'}\n",
            "0.767 (+/-0.061) for {'C': 10, 'penalty': 'none', 'solver': 'lbfgs'}\n",
            "0.650 (+/-0.039) for {'C': 0.01, 'penalty': 'l2', 'solver': 'liblinear'}\n",
            "0.645 (+/-0.045) for {'C': 0.01, 'penalty': 'l1', 'solver': 'liblinear'}\n",
            "0.680 (+/-0.054) for {'C': 0.1, 'penalty': 'l2', 'solver': 'liblinear'}\n",
            "0.732 (+/-0.061) for {'C': 0.1, 'penalty': 'l1', 'solver': 'liblinear'}\n",
            "0.755 (+/-0.040) for {'C': 1, 'penalty': 'l2', 'solver': 'liblinear'}\n",
            "0.758 (+/-0.065) for {'C': 1, 'penalty': 'l1', 'solver': 'liblinear'}\n",
            "0.761 (+/-0.062) for {'C': 10, 'penalty': 'l2', 'solver': 'liblinear'}\n",
            "0.760 (+/-0.068) for {'C': 10, 'penalty': 'l1', 'solver': 'liblinear'}\n",
            "\n",
            "# Tuning hyper-parameters for recall\n",
            "\n",
            "Best parameters set found on development set:\n",
            "\n",
            "{'C': 1, 'penalty': 'l2', 'solver': 'lbfgs'}\n",
            "\n",
            "Grid scores on development set:\n",
            "\n",
            "0.729 (+/-0.051) for {'C': 0.01, 'penalty': 'l2', 'solver': 'newton-cg'}\n",
            "0.728 (+/-0.052) for {'C': 0.01, 'penalty': 'l2', 'solver': 'lbfgs'}\n",
            "0.729 (+/-0.057) for {'C': 0.01, 'penalty': 'none', 'solver': 'newton-cg'}\n",
            "0.731 (+/-0.066) for {'C': 0.01, 'penalty': 'none', 'solver': 'lbfgs'}\n",
            "0.723 (+/-0.074) for {'C': 0.1, 'penalty': 'l2', 'solver': 'newton-cg'}\n",
            "0.723 (+/-0.073) for {'C': 0.1, 'penalty': 'l2', 'solver': 'lbfgs'}\n",
            "0.729 (+/-0.057) for {'C': 0.1, 'penalty': 'none', 'solver': 'newton-cg'}\n",
            "0.731 (+/-0.066) for {'C': 0.1, 'penalty': 'none', 'solver': 'lbfgs'}\n",
            "0.727 (+/-0.066) for {'C': 1, 'penalty': 'l2', 'solver': 'newton-cg'}\n",
            "0.732 (+/-0.056) for {'C': 1, 'penalty': 'l2', 'solver': 'lbfgs'}\n",
            "0.729 (+/-0.057) for {'C': 1, 'penalty': 'none', 'solver': 'newton-cg'}\n",
            "0.731 (+/-0.066) for {'C': 1, 'penalty': 'none', 'solver': 'lbfgs'}\n",
            "0.727 (+/-0.066) for {'C': 10, 'penalty': 'l2', 'solver': 'newton-cg'}\n",
            "0.732 (+/-0.056) for {'C': 10, 'penalty': 'l2', 'solver': 'lbfgs'}\n",
            "0.729 (+/-0.057) for {'C': 10, 'penalty': 'none', 'solver': 'newton-cg'}\n",
            "0.731 (+/-0.066) for {'C': 10, 'penalty': 'none', 'solver': 'lbfgs'}\n",
            "0.600 (+/-0.054) for {'C': 0.01, 'penalty': 'l2', 'solver': 'liblinear'}\n",
            "0.582 (+/-0.042) for {'C': 0.01, 'penalty': 'l1', 'solver': 'liblinear'}\n",
            "0.628 (+/-0.051) for {'C': 0.1, 'penalty': 'l2', 'solver': 'liblinear'}\n",
            "0.682 (+/-0.049) for {'C': 0.1, 'penalty': 'l1', 'solver': 'liblinear'}\n",
            "0.708 (+/-0.053) for {'C': 1, 'penalty': 'l2', 'solver': 'liblinear'}\n",
            "0.724 (+/-0.064) for {'C': 1, 'penalty': 'l1', 'solver': 'liblinear'}\n",
            "0.726 (+/-0.063) for {'C': 10, 'penalty': 'l2', 'solver': 'liblinear'}\n",
            "0.727 (+/-0.066) for {'C': 10, 'penalty': 'l1', 'solver': 'liblinear'}\n",
            "\n"
          ]
        }
      ],
      "source": [
        "import time\n",
        "%time\n",
        "gridsearch(modelLR,tuned_parameters,scores,5)"
      ]
    },
    {
      "cell_type": "markdown",
      "metadata": {
        "id": "lTugH39DZBfh"
      },
      "source": [
        "##### Pregunta\n",
        "\n",
        "¿Con qué valores se obtienen mejores resultados?\n"
      ]
    },
    {
      "cell_type": "markdown",
      "metadata": {
        "collapsed": true,
        "id": "fsSg9z42ZBfh"
      },
      "source": [
        "Respuesta."
      ]
    },
    {
      "cell_type": "markdown",
      "source": [
        "Los mejores valores son {'C': 0.01, 'penalty': 'none', 'solver': 'lbfgs'} y {'C': 1, 'penalty': 'l2', 'solver': 'lbfgs'}"
      ],
      "metadata": {
        "id": "ZQjcs067TJKM"
      }
    },
    {
      "cell_type": "markdown",
      "metadata": {
        "id": "WLvaYEj8ZBfh"
      },
      "source": [
        "#### 2.4. K-fold combinado con RandomSearch method\n",
        "\n",
        "Como podemos ver el proceso anterior es bastante costoso ya que es necesario probar todas las posibles combinaciones y además utilizando k-fold cross validation. Una alternativa a esta aproximación consiste en utilizar Random Search que no hace una búsqueda exhaustiva con todos los hiperparámetros sino que hace una búsqueda aleatorea. "
      ]
    },
    {
      "cell_type": "code",
      "execution_count": 31,
      "metadata": {
        "collapsed": true,
        "id": "DseQTbDbZBfi"
      },
      "outputs": [],
      "source": [
        "from sklearn.model_selection import RandomizedSearchCV\n",
        "from scipy.stats import randint as sp_randint\n",
        "\n",
        "def randomsearch(model,parameters,scores,k=5):\n",
        "    for score in scores:  \n",
        "      print(\"# Tuning hyper-parameters for %s\" % score)\n",
        "      print()\n",
        "\n",
        "      clf = RandomizedSearchCV(model, parameters,cv=k)\n",
        "      clf.fit(trainData, trainLabels)\n",
        "\n",
        "      print(\"Best parameters set found on development set:\")\n",
        "      print()\n",
        "      print(clf.best_params_)\n",
        "      print()"
      ]
    },
    {
      "cell_type": "markdown",
      "metadata": {
        "id": "PTv28DFwZBfi"
      },
      "source": [
        "Podemos ejecutar la función anterior con la siguiente celda. "
      ]
    },
    {
      "cell_type": "code",
      "execution_count": 32,
      "metadata": {
        "collapsed": true,
        "id": "svSqNgSvZBfi",
        "colab": {
          "base_uri": "https://localhost:8080/"
        },
        "outputId": "dc88efb8-176d-4d49-a4b5-f09c0958866a"
      },
      "outputs": [
        {
          "output_type": "stream",
          "name": "stdout",
          "text": [
            "CPU times: user 3 µs, sys: 0 ns, total: 3 µs\n",
            "Wall time: 8.11 µs\n",
            "# Tuning hyper-parameters for precision\n",
            "\n",
            "Best parameters set found on development set:\n",
            "\n",
            "{'solver': 'lbfgs', 'penalty': 'l2', 'C': 10}\n",
            "\n",
            "# Tuning hyper-parameters for recall\n",
            "\n",
            "Best parameters set found on development set:\n",
            "\n",
            "{'solver': 'lbfgs', 'penalty': 'l2', 'C': 10}\n",
            "\n"
          ]
        }
      ],
      "source": [
        "%time\n",
        "randomsearch(modelLR, {'solver': ['newton-cg', 'lbfgs'], 'penalty': ['l2', 'none'],\n",
        "                     'C': [0.01, 0.1,1, 10]},scores,5)"
      ]
    },
    {
      "cell_type": "markdown",
      "metadata": {
        "id": "JL9-vvRwZBfi"
      },
      "source": [
        "##### Pregunta\n",
        "\n",
        "¿Con qué valores se obtienen mejores resultados?"
      ]
    },
    {
      "cell_type": "markdown",
      "metadata": {
        "collapsed": true,
        "id": "Kpf1KI8eZBfj"
      },
      "source": [
        "Respuesta. "
      ]
    },
    {
      "cell_type": "markdown",
      "source": [
        "Los mejores valores son {'solver': 'lbfgs', 'penalty': 'l2', 'C': 10}"
      ],
      "metadata": {
        "id": "ZME3VdceTmOB"
      }
    },
    {
      "cell_type": "markdown",
      "metadata": {
        "id": "splquhH0ZBfj"
      },
      "source": [
        "##### Ejercicio\n",
        "\n",
        "Utilizando RandomSearch busca los mejores hiperparámetros para una red neuronal multicapa con las siguientes configuraciones de capas (5,2), (3,3,3), (5,3,2), (5,4,3,2); con funciones de activación: ‘identity’, ‘logistic’, ‘tanh’, ‘relu’; con momentum: 0.9,0.95,0.99; y learning_rate_init: 0.001,0.01,0.1."
      ]
    },
    {
      "cell_type": "code",
      "source": [
        "from sklearn.neural_network import MLPClassifier\n",
        "md = MLPClassifier()"
      ],
      "metadata": {
        "id": "bcktSToqUsSp"
      },
      "execution_count": 35,
      "outputs": []
    },
    {
      "cell_type": "code",
      "execution_count": 38,
      "metadata": {
        "collapsed": true,
        "id": "JgTmDlwPZBfj",
        "colab": {
          "base_uri": "https://localhost:8080/"
        },
        "outputId": "ca6a669e-9daa-4e8b-f45a-23f4370dd069"
      },
      "outputs": [
        {
          "output_type": "stream",
          "name": "stdout",
          "text": [
            "# Tuning hyper-parameters for precision\n",
            "\n",
            "Best parameters set found on development set:\n",
            "\n",
            "{'momentum': 0.95, 'learning_rate_init': 0.1, 'hidden_layer_sizes': (3, 3, 3), 'activation': 'identity'}\n",
            "\n",
            "# Tuning hyper-parameters for recall\n",
            "\n",
            "Best parameters set found on development set:\n",
            "\n",
            "{'momentum': 0.95, 'learning_rate_init': 0.1, 'hidden_layer_sizes': (5, 3, 2), 'activation': 'identity'}\n",
            "\n"
          ]
        }
      ],
      "source": [
        "randomsearch(md, {'hidden_layer_sizes': [(5,2), (3,3,3),(5,3,2),(5,4,3,2)], 'activation': ['identity', 'logistic', 'tanh', 'relu'],\n",
        "                     'momentum': [0.9, 0.95,0.99],'learning_rate_init':[0.001,0.01,0.1]},scores,5)"
      ]
    },
    {
      "cell_type": "markdown",
      "metadata": {
        "id": "iZ7yjC0fZBfj"
      },
      "source": [
        "##### Pregunta\n",
        "¿Con qué valores se obtienen mejores resultados?"
      ]
    },
    {
      "cell_type": "markdown",
      "metadata": {
        "collapsed": true,
        "id": "OHMKSn4OZBfk"
      },
      "source": [
        "Respuesta. "
      ]
    },
    {
      "cell_type": "markdown",
      "source": [
        "Se obtiene mejores resultados con {'momentum': 0.95, 'learning_rate_init': 0.1, 'hidden_layer_sizes': (3, 3, 3), 'activation': 'identity'} y {'momentum': 0.95, 'learning_rate_init': 0.1, 'hidden_layer_sizes': (5, 3, 2), 'activation': 'identity'}"
      ],
      "metadata": {
        "id": "cqEjeTngWimh"
      }
    },
    {
      "cell_type": "markdown",
      "metadata": {
        "id": "Wx8y97UwZBfk"
      },
      "source": [
        "##### Ejercicio\n",
        "Utilizando los hiperparámetros que mejores resultados han dado hasta ahora para cada modelo, define y entrena un clasificador para cada uno de ellos."
      ]
    },
    {
      "cell_type": "code",
      "source": [
        "md = MLPClassifier(momentum=0.95,learning_rate_init=0.1,hidden_layer_sizes=(3,3,3),activation='identity')\n",
        "md.fit(trainData,trainLabels)\n",
        "md.predict(testData)"
      ],
      "metadata": {
        "colab": {
          "base_uri": "https://localhost:8080/"
        },
        "id": "GzivIisXXQeD",
        "outputId": "51f31b3f-1fd3-4b19-c14b-1e4fdf29251a"
      },
      "execution_count": 41,
      "outputs": [
        {
          "output_type": "execute_result",
          "data": {
            "text/plain": [
              "array([0., 0., 0., 0., 0., 0., 0., 1., 0., 1., 0., 1., 0., 0., 0., 0., 0.,\n",
              "       0., 1., 0., 0., 0., 0., 0., 0., 1., 0., 0., 0., 0., 1., 1., 1., 1.,\n",
              "       0., 1., 1., 0., 0., 1., 0., 1., 0., 0., 0., 0., 0., 0., 0., 1., 0.,\n",
              "       1., 1., 0., 0., 0., 1., 0., 0., 1., 1., 0., 0., 0., 0., 0., 0., 1.,\n",
              "       0., 1., 1., 0., 0., 0., 0., 0., 0., 0., 0., 0., 1., 0., 0., 0., 0.,\n",
              "       1., 1., 0., 0., 0., 0., 0., 0., 1., 0., 0., 0., 0., 0., 0., 1., 0.,\n",
              "       1., 0., 0., 0., 0., 1., 0., 0., 0., 0., 0., 1., 0., 0., 1., 0., 0.,\n",
              "       1., 0., 0., 0., 0., 0., 0., 0., 1., 1., 1., 1., 1., 0., 0., 1., 0.,\n",
              "       0., 1., 1., 0., 0., 0., 0., 0., 0., 0., 0., 0., 0., 1., 0., 0., 0.,\n",
              "       0., 0., 0., 0., 1., 1., 0., 1., 1., 0., 0., 0., 1., 0., 0., 1., 0.,\n",
              "       1., 0., 0., 0., 0., 0., 0., 0., 0., 0., 1., 0., 0., 1., 0., 0., 0.,\n",
              "       0., 1., 0., 0., 0.])"
            ]
          },
          "metadata": {},
          "execution_count": 41
        }
      ]
    },
    {
      "cell_type": "code",
      "source": [
        "md2 = MLPClassifier(momentum=0.95,learning_rate_init=0.1,hidden_layer_sizes=(5,3,2),activation='identity')\n",
        "md2.fit(trainData,trainLabels)\n",
        "md2.predict(testData)"
      ],
      "metadata": {
        "colab": {
          "base_uri": "https://localhost:8080/"
        },
        "id": "lIVwZITPYMSg",
        "outputId": "f8d10a9b-c67f-4026-e8ba-3054db481e5f"
      },
      "execution_count": 42,
      "outputs": [
        {
          "output_type": "execute_result",
          "data": {
            "text/plain": [
              "array([0., 0., 0., 0., 1., 1., 0., 1., 1., 1., 0., 1., 1., 0., 0., 1., 0.,\n",
              "       0., 1., 1., 0., 0., 1., 0., 1., 1., 0., 0., 0., 0., 1., 1., 1., 1.,\n",
              "       1., 1., 1., 0., 1., 1., 0., 1., 1., 0., 0., 1., 1., 0., 0., 1., 0.,\n",
              "       1., 1., 0., 0., 0., 1., 0., 0., 1., 1., 0., 0., 0., 0., 1., 0., 1.,\n",
              "       0., 1., 1., 0., 0., 0., 0., 0., 0., 0., 0., 0., 1., 0., 0., 1., 0.,\n",
              "       1., 1., 0., 0., 0., 0., 0., 0., 1., 1., 1., 1., 0., 1., 0., 1., 0.,\n",
              "       1., 1., 1., 0., 1., 1., 0., 1., 0., 1., 0., 1., 0., 0., 1., 0., 0.,\n",
              "       1., 0., 0., 0., 0., 1., 1., 0., 1., 1., 1., 1., 1., 0., 1., 1., 0.,\n",
              "       0., 1., 1., 0., 0., 0., 0., 1., 0., 0., 0., 0., 1., 1., 0., 0., 1.,\n",
              "       0., 0., 1., 1., 1., 1., 0., 1., 1., 0., 0., 0., 1., 0., 0., 1., 1.,\n",
              "       1., 0., 0., 1., 1., 0., 0., 0., 0., 0., 1., 1., 0., 1., 1., 0., 0.,\n",
              "       0., 1., 1., 0., 0.])"
            ]
          },
          "metadata": {},
          "execution_count": 42
        }
      ]
    },
    {
      "cell_type": "markdown",
      "metadata": {
        "id": "2AiKBO1mZBfk"
      },
      "source": [
        "**KNN**"
      ]
    },
    {
      "cell_type": "code",
      "execution_count": 43,
      "metadata": {
        "collapsed": true,
        "id": "QucyetroZBfk",
        "colab": {
          "base_uri": "https://localhost:8080/",
          "height": 75
        },
        "outputId": "dbfa52a8-9105-4c59-a19c-b4b37a08218f"
      },
      "outputs": [
        {
          "output_type": "execute_result",
          "data": {
            "text/plain": [
              "KNeighborsClassifier(n_neighbors=11)"
            ],
            "text/html": [
              "<style>#sk-container-id-2 {color: black;background-color: white;}#sk-container-id-2 pre{padding: 0;}#sk-container-id-2 div.sk-toggleable {background-color: white;}#sk-container-id-2 label.sk-toggleable__label {cursor: pointer;display: block;width: 100%;margin-bottom: 0;padding: 0.3em;box-sizing: border-box;text-align: center;}#sk-container-id-2 label.sk-toggleable__label-arrow:before {content: \"▸\";float: left;margin-right: 0.25em;color: #696969;}#sk-container-id-2 label.sk-toggleable__label-arrow:hover:before {color: black;}#sk-container-id-2 div.sk-estimator:hover label.sk-toggleable__label-arrow:before {color: black;}#sk-container-id-2 div.sk-toggleable__content {max-height: 0;max-width: 0;overflow: hidden;text-align: left;background-color: #f0f8ff;}#sk-container-id-2 div.sk-toggleable__content pre {margin: 0.2em;color: black;border-radius: 0.25em;background-color: #f0f8ff;}#sk-container-id-2 input.sk-toggleable__control:checked~div.sk-toggleable__content {max-height: 200px;max-width: 100%;overflow: auto;}#sk-container-id-2 input.sk-toggleable__control:checked~label.sk-toggleable__label-arrow:before {content: \"▾\";}#sk-container-id-2 div.sk-estimator input.sk-toggleable__control:checked~label.sk-toggleable__label {background-color: #d4ebff;}#sk-container-id-2 div.sk-label input.sk-toggleable__control:checked~label.sk-toggleable__label {background-color: #d4ebff;}#sk-container-id-2 input.sk-hidden--visually {border: 0;clip: rect(1px 1px 1px 1px);clip: rect(1px, 1px, 1px, 1px);height: 1px;margin: -1px;overflow: hidden;padding: 0;position: absolute;width: 1px;}#sk-container-id-2 div.sk-estimator {font-family: monospace;background-color: #f0f8ff;border: 1px dotted black;border-radius: 0.25em;box-sizing: border-box;margin-bottom: 0.5em;}#sk-container-id-2 div.sk-estimator:hover {background-color: #d4ebff;}#sk-container-id-2 div.sk-parallel-item::after {content: \"\";width: 100%;border-bottom: 1px solid gray;flex-grow: 1;}#sk-container-id-2 div.sk-label:hover label.sk-toggleable__label {background-color: #d4ebff;}#sk-container-id-2 div.sk-serial::before {content: \"\";position: absolute;border-left: 1px solid gray;box-sizing: border-box;top: 0;bottom: 0;left: 50%;z-index: 0;}#sk-container-id-2 div.sk-serial {display: flex;flex-direction: column;align-items: center;background-color: white;padding-right: 0.2em;padding-left: 0.2em;position: relative;}#sk-container-id-2 div.sk-item {position: relative;z-index: 1;}#sk-container-id-2 div.sk-parallel {display: flex;align-items: stretch;justify-content: center;background-color: white;position: relative;}#sk-container-id-2 div.sk-item::before, #sk-container-id-2 div.sk-parallel-item::before {content: \"\";position: absolute;border-left: 1px solid gray;box-sizing: border-box;top: 0;bottom: 0;left: 50%;z-index: -1;}#sk-container-id-2 div.sk-parallel-item {display: flex;flex-direction: column;z-index: 1;position: relative;background-color: white;}#sk-container-id-2 div.sk-parallel-item:first-child::after {align-self: flex-end;width: 50%;}#sk-container-id-2 div.sk-parallel-item:last-child::after {align-self: flex-start;width: 50%;}#sk-container-id-2 div.sk-parallel-item:only-child::after {width: 0;}#sk-container-id-2 div.sk-dashed-wrapped {border: 1px dashed gray;margin: 0 0.4em 0.5em 0.4em;box-sizing: border-box;padding-bottom: 0.4em;background-color: white;}#sk-container-id-2 div.sk-label label {font-family: monospace;font-weight: bold;display: inline-block;line-height: 1.2em;}#sk-container-id-2 div.sk-label-container {text-align: center;}#sk-container-id-2 div.sk-container {/* jupyter's `normalize.less` sets `[hidden] { display: none; }` but bootstrap.min.css set `[hidden] { display: none !important; }` so we also need the `!important` here to be able to override the default hidden behavior on the sphinx rendered scikit-learn.org. See: https://github.com/scikit-learn/scikit-learn/issues/21755 */display: inline-block !important;position: relative;}#sk-container-id-2 div.sk-text-repr-fallback {display: none;}</style><div id=\"sk-container-id-2\" class=\"sk-top-container\"><div class=\"sk-text-repr-fallback\"><pre>KNeighborsClassifier(n_neighbors=11)</pre><b>In a Jupyter environment, please rerun this cell to show the HTML representation or trust the notebook. <br />On GitHub, the HTML representation is unable to render, please try loading this page with nbviewer.org.</b></div><div class=\"sk-container\" hidden><div class=\"sk-item\"><div class=\"sk-estimator sk-toggleable\"><input class=\"sk-toggleable__control sk-hidden--visually\" id=\"sk-estimator-id-2\" type=\"checkbox\" checked><label for=\"sk-estimator-id-2\" class=\"sk-toggleable__label sk-toggleable__label-arrow\">KNeighborsClassifier</label><div class=\"sk-toggleable__content\"><pre>KNeighborsClassifier(n_neighbors=11)</pre></div></div></div></div></div>"
            ]
          },
          "metadata": {},
          "execution_count": 43
        }
      ],
      "source": [
        "modelKNN = KNeighborsClassifier(n_neighbors=11)\n",
        "modelKNN.fit(trainData, trainLabels)"
      ]
    },
    {
      "cell_type": "markdown",
      "metadata": {
        "id": "l9kGRBbnZBfl"
      },
      "source": [
        "**Árboles de decisión**"
      ]
    },
    {
      "cell_type": "code",
      "execution_count": 44,
      "metadata": {
        "collapsed": true,
        "id": "QJSnAWxqZBfl",
        "colab": {
          "base_uri": "https://localhost:8080/",
          "height": 75
        },
        "outputId": "8e376575-2b1b-4206-9f67-e1fbe13c9525"
      },
      "outputs": [
        {
          "output_type": "execute_result",
          "data": {
            "text/plain": [
              "DecisionTreeClassifier()"
            ],
            "text/html": [
              "<style>#sk-container-id-3 {color: black;background-color: white;}#sk-container-id-3 pre{padding: 0;}#sk-container-id-3 div.sk-toggleable {background-color: white;}#sk-container-id-3 label.sk-toggleable__label {cursor: pointer;display: block;width: 100%;margin-bottom: 0;padding: 0.3em;box-sizing: border-box;text-align: center;}#sk-container-id-3 label.sk-toggleable__label-arrow:before {content: \"▸\";float: left;margin-right: 0.25em;color: #696969;}#sk-container-id-3 label.sk-toggleable__label-arrow:hover:before {color: black;}#sk-container-id-3 div.sk-estimator:hover label.sk-toggleable__label-arrow:before {color: black;}#sk-container-id-3 div.sk-toggleable__content {max-height: 0;max-width: 0;overflow: hidden;text-align: left;background-color: #f0f8ff;}#sk-container-id-3 div.sk-toggleable__content pre {margin: 0.2em;color: black;border-radius: 0.25em;background-color: #f0f8ff;}#sk-container-id-3 input.sk-toggleable__control:checked~div.sk-toggleable__content {max-height: 200px;max-width: 100%;overflow: auto;}#sk-container-id-3 input.sk-toggleable__control:checked~label.sk-toggleable__label-arrow:before {content: \"▾\";}#sk-container-id-3 div.sk-estimator input.sk-toggleable__control:checked~label.sk-toggleable__label {background-color: #d4ebff;}#sk-container-id-3 div.sk-label input.sk-toggleable__control:checked~label.sk-toggleable__label {background-color: #d4ebff;}#sk-container-id-3 input.sk-hidden--visually {border: 0;clip: rect(1px 1px 1px 1px);clip: rect(1px, 1px, 1px, 1px);height: 1px;margin: -1px;overflow: hidden;padding: 0;position: absolute;width: 1px;}#sk-container-id-3 div.sk-estimator {font-family: monospace;background-color: #f0f8ff;border: 1px dotted black;border-radius: 0.25em;box-sizing: border-box;margin-bottom: 0.5em;}#sk-container-id-3 div.sk-estimator:hover {background-color: #d4ebff;}#sk-container-id-3 div.sk-parallel-item::after {content: \"\";width: 100%;border-bottom: 1px solid gray;flex-grow: 1;}#sk-container-id-3 div.sk-label:hover label.sk-toggleable__label {background-color: #d4ebff;}#sk-container-id-3 div.sk-serial::before {content: \"\";position: absolute;border-left: 1px solid gray;box-sizing: border-box;top: 0;bottom: 0;left: 50%;z-index: 0;}#sk-container-id-3 div.sk-serial {display: flex;flex-direction: column;align-items: center;background-color: white;padding-right: 0.2em;padding-left: 0.2em;position: relative;}#sk-container-id-3 div.sk-item {position: relative;z-index: 1;}#sk-container-id-3 div.sk-parallel {display: flex;align-items: stretch;justify-content: center;background-color: white;position: relative;}#sk-container-id-3 div.sk-item::before, #sk-container-id-3 div.sk-parallel-item::before {content: \"\";position: absolute;border-left: 1px solid gray;box-sizing: border-box;top: 0;bottom: 0;left: 50%;z-index: -1;}#sk-container-id-3 div.sk-parallel-item {display: flex;flex-direction: column;z-index: 1;position: relative;background-color: white;}#sk-container-id-3 div.sk-parallel-item:first-child::after {align-self: flex-end;width: 50%;}#sk-container-id-3 div.sk-parallel-item:last-child::after {align-self: flex-start;width: 50%;}#sk-container-id-3 div.sk-parallel-item:only-child::after {width: 0;}#sk-container-id-3 div.sk-dashed-wrapped {border: 1px dashed gray;margin: 0 0.4em 0.5em 0.4em;box-sizing: border-box;padding-bottom: 0.4em;background-color: white;}#sk-container-id-3 div.sk-label label {font-family: monospace;font-weight: bold;display: inline-block;line-height: 1.2em;}#sk-container-id-3 div.sk-label-container {text-align: center;}#sk-container-id-3 div.sk-container {/* jupyter's `normalize.less` sets `[hidden] { display: none; }` but bootstrap.min.css set `[hidden] { display: none !important; }` so we also need the `!important` here to be able to override the default hidden behavior on the sphinx rendered scikit-learn.org. See: https://github.com/scikit-learn/scikit-learn/issues/21755 */display: inline-block !important;position: relative;}#sk-container-id-3 div.sk-text-repr-fallback {display: none;}</style><div id=\"sk-container-id-3\" class=\"sk-top-container\"><div class=\"sk-text-repr-fallback\"><pre>DecisionTreeClassifier()</pre><b>In a Jupyter environment, please rerun this cell to show the HTML representation or trust the notebook. <br />On GitHub, the HTML representation is unable to render, please try loading this page with nbviewer.org.</b></div><div class=\"sk-container\" hidden><div class=\"sk-item\"><div class=\"sk-estimator sk-toggleable\"><input class=\"sk-toggleable__control sk-hidden--visually\" id=\"sk-estimator-id-3\" type=\"checkbox\" checked><label for=\"sk-estimator-id-3\" class=\"sk-toggleable__label sk-toggleable__label-arrow\">DecisionTreeClassifier</label><div class=\"sk-toggleable__content\"><pre>DecisionTreeClassifier()</pre></div></div></div></div></div>"
            ]
          },
          "metadata": {},
          "execution_count": 44
        }
      ],
      "source": [
        "modelArbol = DecisionTreeClassifier()\n",
        "modelArbol.fit(trainData, trainLabels)"
      ]
    },
    {
      "cell_type": "markdown",
      "metadata": {
        "id": "QO6DGDRsZBfl"
      },
      "source": [
        "**Regresión Logística**"
      ]
    },
    {
      "cell_type": "code",
      "execution_count": 45,
      "metadata": {
        "collapsed": true,
        "id": "Ma2TQERYZBfl",
        "colab": {
          "base_uri": "https://localhost:8080/",
          "height": 75
        },
        "outputId": "58667460-bf26-4c28-a39d-28d6b87992d1"
      },
      "outputs": [
        {
          "output_type": "execute_result",
          "data": {
            "text/plain": [
              "LogisticRegression()"
            ],
            "text/html": [
              "<style>#sk-container-id-4 {color: black;background-color: white;}#sk-container-id-4 pre{padding: 0;}#sk-container-id-4 div.sk-toggleable {background-color: white;}#sk-container-id-4 label.sk-toggleable__label {cursor: pointer;display: block;width: 100%;margin-bottom: 0;padding: 0.3em;box-sizing: border-box;text-align: center;}#sk-container-id-4 label.sk-toggleable__label-arrow:before {content: \"▸\";float: left;margin-right: 0.25em;color: #696969;}#sk-container-id-4 label.sk-toggleable__label-arrow:hover:before {color: black;}#sk-container-id-4 div.sk-estimator:hover label.sk-toggleable__label-arrow:before {color: black;}#sk-container-id-4 div.sk-toggleable__content {max-height: 0;max-width: 0;overflow: hidden;text-align: left;background-color: #f0f8ff;}#sk-container-id-4 div.sk-toggleable__content pre {margin: 0.2em;color: black;border-radius: 0.25em;background-color: #f0f8ff;}#sk-container-id-4 input.sk-toggleable__control:checked~div.sk-toggleable__content {max-height: 200px;max-width: 100%;overflow: auto;}#sk-container-id-4 input.sk-toggleable__control:checked~label.sk-toggleable__label-arrow:before {content: \"▾\";}#sk-container-id-4 div.sk-estimator input.sk-toggleable__control:checked~label.sk-toggleable__label {background-color: #d4ebff;}#sk-container-id-4 div.sk-label input.sk-toggleable__control:checked~label.sk-toggleable__label {background-color: #d4ebff;}#sk-container-id-4 input.sk-hidden--visually {border: 0;clip: rect(1px 1px 1px 1px);clip: rect(1px, 1px, 1px, 1px);height: 1px;margin: -1px;overflow: hidden;padding: 0;position: absolute;width: 1px;}#sk-container-id-4 div.sk-estimator {font-family: monospace;background-color: #f0f8ff;border: 1px dotted black;border-radius: 0.25em;box-sizing: border-box;margin-bottom: 0.5em;}#sk-container-id-4 div.sk-estimator:hover {background-color: #d4ebff;}#sk-container-id-4 div.sk-parallel-item::after {content: \"\";width: 100%;border-bottom: 1px solid gray;flex-grow: 1;}#sk-container-id-4 div.sk-label:hover label.sk-toggleable__label {background-color: #d4ebff;}#sk-container-id-4 div.sk-serial::before {content: \"\";position: absolute;border-left: 1px solid gray;box-sizing: border-box;top: 0;bottom: 0;left: 50%;z-index: 0;}#sk-container-id-4 div.sk-serial {display: flex;flex-direction: column;align-items: center;background-color: white;padding-right: 0.2em;padding-left: 0.2em;position: relative;}#sk-container-id-4 div.sk-item {position: relative;z-index: 1;}#sk-container-id-4 div.sk-parallel {display: flex;align-items: stretch;justify-content: center;background-color: white;position: relative;}#sk-container-id-4 div.sk-item::before, #sk-container-id-4 div.sk-parallel-item::before {content: \"\";position: absolute;border-left: 1px solid gray;box-sizing: border-box;top: 0;bottom: 0;left: 50%;z-index: -1;}#sk-container-id-4 div.sk-parallel-item {display: flex;flex-direction: column;z-index: 1;position: relative;background-color: white;}#sk-container-id-4 div.sk-parallel-item:first-child::after {align-self: flex-end;width: 50%;}#sk-container-id-4 div.sk-parallel-item:last-child::after {align-self: flex-start;width: 50%;}#sk-container-id-4 div.sk-parallel-item:only-child::after {width: 0;}#sk-container-id-4 div.sk-dashed-wrapped {border: 1px dashed gray;margin: 0 0.4em 0.5em 0.4em;box-sizing: border-box;padding-bottom: 0.4em;background-color: white;}#sk-container-id-4 div.sk-label label {font-family: monospace;font-weight: bold;display: inline-block;line-height: 1.2em;}#sk-container-id-4 div.sk-label-container {text-align: center;}#sk-container-id-4 div.sk-container {/* jupyter's `normalize.less` sets `[hidden] { display: none; }` but bootstrap.min.css set `[hidden] { display: none !important; }` so we also need the `!important` here to be able to override the default hidden behavior on the sphinx rendered scikit-learn.org. See: https://github.com/scikit-learn/scikit-learn/issues/21755 */display: inline-block !important;position: relative;}#sk-container-id-4 div.sk-text-repr-fallback {display: none;}</style><div id=\"sk-container-id-4\" class=\"sk-top-container\"><div class=\"sk-text-repr-fallback\"><pre>LogisticRegression()</pre><b>In a Jupyter environment, please rerun this cell to show the HTML representation or trust the notebook. <br />On GitHub, the HTML representation is unable to render, please try loading this page with nbviewer.org.</b></div><div class=\"sk-container\" hidden><div class=\"sk-item\"><div class=\"sk-estimator sk-toggleable\"><input class=\"sk-toggleable__control sk-hidden--visually\" id=\"sk-estimator-id-4\" type=\"checkbox\" checked><label for=\"sk-estimator-id-4\" class=\"sk-toggleable__label sk-toggleable__label-arrow\">LogisticRegression</label><div class=\"sk-toggleable__content\"><pre>LogisticRegression()</pre></div></div></div></div></div>"
            ]
          },
          "metadata": {},
          "execution_count": 45
        }
      ],
      "source": [
        "modelLR = LogisticRegression()\n",
        "modelLR.fit(trainData, trainLabels)"
      ]
    },
    {
      "cell_type": "markdown",
      "metadata": {
        "id": "AdCC_N2TZBfm"
      },
      "source": [
        "**Redes neuronales**"
      ]
    },
    {
      "cell_type": "code",
      "execution_count": 46,
      "metadata": {
        "collapsed": true,
        "id": "WI6sAHvdZBfm",
        "colab": {
          "base_uri": "https://localhost:8080/",
          "height": 75
        },
        "outputId": "a51d3abe-daf2-4748-d7e5-b0de2c09fdba"
      },
      "outputs": [
        {
          "output_type": "execute_result",
          "data": {
            "text/plain": [
              "Perceptron()"
            ],
            "text/html": [
              "<style>#sk-container-id-5 {color: black;background-color: white;}#sk-container-id-5 pre{padding: 0;}#sk-container-id-5 div.sk-toggleable {background-color: white;}#sk-container-id-5 label.sk-toggleable__label {cursor: pointer;display: block;width: 100%;margin-bottom: 0;padding: 0.3em;box-sizing: border-box;text-align: center;}#sk-container-id-5 label.sk-toggleable__label-arrow:before {content: \"▸\";float: left;margin-right: 0.25em;color: #696969;}#sk-container-id-5 label.sk-toggleable__label-arrow:hover:before {color: black;}#sk-container-id-5 div.sk-estimator:hover label.sk-toggleable__label-arrow:before {color: black;}#sk-container-id-5 div.sk-toggleable__content {max-height: 0;max-width: 0;overflow: hidden;text-align: left;background-color: #f0f8ff;}#sk-container-id-5 div.sk-toggleable__content pre {margin: 0.2em;color: black;border-radius: 0.25em;background-color: #f0f8ff;}#sk-container-id-5 input.sk-toggleable__control:checked~div.sk-toggleable__content {max-height: 200px;max-width: 100%;overflow: auto;}#sk-container-id-5 input.sk-toggleable__control:checked~label.sk-toggleable__label-arrow:before {content: \"▾\";}#sk-container-id-5 div.sk-estimator input.sk-toggleable__control:checked~label.sk-toggleable__label {background-color: #d4ebff;}#sk-container-id-5 div.sk-label input.sk-toggleable__control:checked~label.sk-toggleable__label {background-color: #d4ebff;}#sk-container-id-5 input.sk-hidden--visually {border: 0;clip: rect(1px 1px 1px 1px);clip: rect(1px, 1px, 1px, 1px);height: 1px;margin: -1px;overflow: hidden;padding: 0;position: absolute;width: 1px;}#sk-container-id-5 div.sk-estimator {font-family: monospace;background-color: #f0f8ff;border: 1px dotted black;border-radius: 0.25em;box-sizing: border-box;margin-bottom: 0.5em;}#sk-container-id-5 div.sk-estimator:hover {background-color: #d4ebff;}#sk-container-id-5 div.sk-parallel-item::after {content: \"\";width: 100%;border-bottom: 1px solid gray;flex-grow: 1;}#sk-container-id-5 div.sk-label:hover label.sk-toggleable__label {background-color: #d4ebff;}#sk-container-id-5 div.sk-serial::before {content: \"\";position: absolute;border-left: 1px solid gray;box-sizing: border-box;top: 0;bottom: 0;left: 50%;z-index: 0;}#sk-container-id-5 div.sk-serial {display: flex;flex-direction: column;align-items: center;background-color: white;padding-right: 0.2em;padding-left: 0.2em;position: relative;}#sk-container-id-5 div.sk-item {position: relative;z-index: 1;}#sk-container-id-5 div.sk-parallel {display: flex;align-items: stretch;justify-content: center;background-color: white;position: relative;}#sk-container-id-5 div.sk-item::before, #sk-container-id-5 div.sk-parallel-item::before {content: \"\";position: absolute;border-left: 1px solid gray;box-sizing: border-box;top: 0;bottom: 0;left: 50%;z-index: -1;}#sk-container-id-5 div.sk-parallel-item {display: flex;flex-direction: column;z-index: 1;position: relative;background-color: white;}#sk-container-id-5 div.sk-parallel-item:first-child::after {align-self: flex-end;width: 50%;}#sk-container-id-5 div.sk-parallel-item:last-child::after {align-self: flex-start;width: 50%;}#sk-container-id-5 div.sk-parallel-item:only-child::after {width: 0;}#sk-container-id-5 div.sk-dashed-wrapped {border: 1px dashed gray;margin: 0 0.4em 0.5em 0.4em;box-sizing: border-box;padding-bottom: 0.4em;background-color: white;}#sk-container-id-5 div.sk-label label {font-family: monospace;font-weight: bold;display: inline-block;line-height: 1.2em;}#sk-container-id-5 div.sk-label-container {text-align: center;}#sk-container-id-5 div.sk-container {/* jupyter's `normalize.less` sets `[hidden] { display: none; }` but bootstrap.min.css set `[hidden] { display: none !important; }` so we also need the `!important` here to be able to override the default hidden behavior on the sphinx rendered scikit-learn.org. See: https://github.com/scikit-learn/scikit-learn/issues/21755 */display: inline-block !important;position: relative;}#sk-container-id-5 div.sk-text-repr-fallback {display: none;}</style><div id=\"sk-container-id-5\" class=\"sk-top-container\"><div class=\"sk-text-repr-fallback\"><pre>Perceptron()</pre><b>In a Jupyter environment, please rerun this cell to show the HTML representation or trust the notebook. <br />On GitHub, the HTML representation is unable to render, please try loading this page with nbviewer.org.</b></div><div class=\"sk-container\" hidden><div class=\"sk-item\"><div class=\"sk-estimator sk-toggleable\"><input class=\"sk-toggleable__control sk-hidden--visually\" id=\"sk-estimator-id-5\" type=\"checkbox\" checked><label for=\"sk-estimator-id-5\" class=\"sk-toggleable__label sk-toggleable__label-arrow\">Perceptron</label><div class=\"sk-toggleable__content\"><pre>Perceptron()</pre></div></div></div></div></div>"
            ]
          },
          "metadata": {},
          "execution_count": 46
        }
      ],
      "source": [
        "modelPerceptron = Perceptron()\n",
        "modelPerceptron.fit(trainData,trainLabels)"
      ]
    },
    {
      "cell_type": "markdown",
      "metadata": {
        "id": "6FYNnuuRZBfm"
      },
      "source": [
        "### 3. Evaluando los algoritmos en el conjunto de test\n",
        "\n",
        "Para evaluar los distintos algoritmos vamos a utilizar la función classification_report de la librería sklearn. Para ello hacemos la predicción con respecto al conjunto de test y mostramos los resultados."
      ]
    },
    {
      "cell_type": "code",
      "execution_count": 47,
      "metadata": {
        "collapsed": true,
        "id": "pc9hWLVnZBfm",
        "colab": {
          "base_uri": "https://localhost:8080/"
        },
        "outputId": "f3d610a7-6a03-4614-ea69-2be0ed984b3e"
      },
      "outputs": [
        {
          "output_type": "stream",
          "name": "stdout",
          "text": [
            "EVALUACIÓN EN CONJUNTO DE TEST USANDO KNN\n",
            "              precision    recall  f1-score   support\n",
            "\n",
            "         0.0       0.75      0.77      0.76       123\n",
            "         1.0       0.58      0.55      0.56        69\n",
            "\n",
            "    accuracy                           0.69       192\n",
            "   macro avg       0.66      0.66      0.66       192\n",
            "weighted avg       0.69      0.69      0.69       192\n",
            "\n"
          ]
        }
      ],
      "source": [
        "from sklearn.metrics import classification_report\n",
        "\n",
        "print(\"EVALUACIÓN EN CONJUNTO DE TEST USANDO KNN\")\n",
        "predictionsKNN = modelKNN.predict(testData)\n",
        "print(classification_report(testLabels, predictionsKNN))"
      ]
    },
    {
      "cell_type": "markdown",
      "metadata": {
        "id": "nX3fsS4_ZBfn"
      },
      "source": [
        "##### Ejercicio\n",
        "Repite lo mismo para árboles de decisión, regresión logística, SVMs, y redes neuronales multicapa."
      ]
    },
    {
      "cell_type": "markdown",
      "metadata": {
        "id": "Lu4MlJP8ZBfn"
      },
      "source": [
        "**Árboles de decisión**"
      ]
    },
    {
      "cell_type": "code",
      "execution_count": 48,
      "metadata": {
        "collapsed": true,
        "id": "jIqpKKsOZBfn",
        "colab": {
          "base_uri": "https://localhost:8080/"
        },
        "outputId": "db7a161b-30e9-4c58-dfcd-cd1ef9a603bb"
      },
      "outputs": [
        {
          "output_type": "stream",
          "name": "stdout",
          "text": [
            "EVALUACIÓN EN CONJUNTO DE TEST USANDO Árboles de decisión\n",
            "              precision    recall  f1-score   support\n",
            "\n",
            "         0.0       0.77      0.72      0.74       123\n",
            "         1.0       0.55      0.62      0.59        69\n",
            "\n",
            "    accuracy                           0.68       192\n",
            "   macro avg       0.66      0.67      0.66       192\n",
            "weighted avg       0.69      0.68      0.69       192\n",
            "\n"
          ]
        }
      ],
      "source": [
        "print(\"EVALUACIÓN EN CONJUNTO DE TEST USANDO Árboles de decisión\")\n",
        "predictionsArbol = modelArbol.predict(testData)\n",
        "print(classification_report(testLabels, predictionsArbol))"
      ]
    },
    {
      "cell_type": "markdown",
      "metadata": {
        "id": "RAGQcvTLZBfn"
      },
      "source": [
        "**Regresión Logística**"
      ]
    },
    {
      "cell_type": "code",
      "execution_count": 50,
      "metadata": {
        "collapsed": true,
        "id": "WEWos-URZBfn",
        "colab": {
          "base_uri": "https://localhost:8080/"
        },
        "outputId": "58bf5368-d9d2-4902-855d-03510c892fff"
      },
      "outputs": [
        {
          "output_type": "stream",
          "name": "stdout",
          "text": [
            "EVALUACIÓN EN CONJUNTO DE TEST USANDO Regresión Logística\n",
            "              precision    recall  f1-score   support\n",
            "\n",
            "         0.0       0.80      0.77      0.79       123\n",
            "         1.0       0.62      0.65      0.63        69\n",
            "\n",
            "    accuracy                           0.73       192\n",
            "   macro avg       0.71      0.71      0.71       192\n",
            "weighted avg       0.73      0.73      0.73       192\n",
            "\n"
          ]
        }
      ],
      "source": [
        "print(\"EVALUACIÓN EN CONJUNTO DE TEST USANDO Regresión Logística\")\n",
        "predictionsRL = modelLR.predict(testData)\n",
        "print(classification_report(testLabels, predictionsRL))"
      ]
    },
    {
      "cell_type": "markdown",
      "metadata": {
        "id": "ueTWDte8ZBfo"
      },
      "source": [
        "**Redes neuronales**"
      ]
    },
    {
      "cell_type": "code",
      "execution_count": 51,
      "metadata": {
        "collapsed": true,
        "id": "9RzppSNfZBfo",
        "colab": {
          "base_uri": "https://localhost:8080/"
        },
        "outputId": "5575ac54-d9f2-43c4-960a-b24c74d3008b"
      },
      "outputs": [
        {
          "output_type": "stream",
          "name": "stdout",
          "text": [
            "EVALUACIÓN EN CONJUNTO DE TEST USANDO Redes neuronales\n",
            "              precision    recall  f1-score   support\n",
            "\n",
            "         0.0       0.69      0.90      0.78       123\n",
            "         1.0       0.62      0.29      0.40        69\n",
            "\n",
            "    accuracy                           0.68       192\n",
            "   macro avg       0.66      0.60      0.59       192\n",
            "weighted avg       0.67      0.68      0.64       192\n",
            "\n"
          ]
        }
      ],
      "source": [
        "print(\"EVALUACIÓN EN CONJUNTO DE TEST USANDO Redes neuronales\")\n",
        "predictionsPer = modelPerceptron.predict(testData)\n",
        "print(classification_report(testLabels, predictionsPer))"
      ]
    },
    {
      "cell_type": "markdown",
      "metadata": {
        "id": "L4k9NIULZBfo"
      },
      "source": [
        "##### Pregunta\n",
        "¿Cuál de los clasificadores obtiene mejor precisión? ¿y recall? ¿y f-score?"
      ]
    },
    {
      "cell_type": "markdown",
      "metadata": {
        "collapsed": true,
        "id": "zyX6H2KHZBfp"
      },
      "source": [
        "Respuesta."
      ]
    },
    {
      "cell_type": "markdown",
      "source": [
        "Regresio logistica tiene mejor precision, recall y f-score. "
      ],
      "metadata": {
        "id": "Hxf5l1rpZf-H"
      }
    },
    {
      "cell_type": "markdown",
      "metadata": {
        "id": "ipmywugvZBfp"
      },
      "source": [
        "### 4. Comparando los algoritmos\n",
        "\n",
        "Hemos visto cómo obtener informes de las clasificaciones, pero para comparar los algoritmos puede resultar útil utilizar las curvas ROC de cada uno de ellos."
      ]
    },
    {
      "cell_type": "code",
      "execution_count": 52,
      "metadata": {
        "collapsed": true,
        "id": "Laq_cl90ZBfp"
      },
      "outputs": [],
      "source": [
        "import matplotlib.pyplot as plt\n",
        "from sklearn.metrics import roc_curve, auc\n",
        "%matplotlib inline"
      ]
    },
    {
      "cell_type": "markdown",
      "metadata": {
        "id": "-OyLXwWcZBfp"
      },
      "source": [
        "##### Ejercicio\n",
        "\n",
        "Estudia lo que hace la siguiente función."
      ]
    },
    {
      "cell_type": "code",
      "execution_count": 53,
      "metadata": {
        "collapsed": true,
        "id": "D6BYzewfZBfp"
      },
      "outputs": [],
      "source": [
        "def drawROCCurves(classifiers,predictions,actualLabels):\n",
        "    plt.close()\n",
        "    plt.figure()\n",
        "    lw = 2\n",
        "    fpr = dict()\n",
        "    tpr=dict()\n",
        "    roc_auc =dict()\n",
        "    for i,_ in enumerate(classifiers):\n",
        "        fpr[i],tpr[i],_=roc_curve(actualLabels,predictions[i])\n",
        "        roc_auc[i]=auc(fpr[i],tpr[i])\n",
        "\n",
        "    colours = ['darkorange','aqua','red','green','cornflowerblue','yellow']\n",
        "    for i,_ in enumerate(classifiers):\n",
        "        plt.plot(fpr[i], tpr[i], color=colours[i], lw=lw, label='ROC curve %s (area = %0.2f)' % (classifiers[i],roc_auc[i]))\n",
        "    plt.plot([0, 1], [0, 1], color='navy', lw=lw, linestyle='--')\n",
        "    plt.xlim([0.0, 1.0])\n",
        "    plt.ylim([0.0, 1.05])\n",
        "    plt.xlabel('False Positive Rate')\n",
        "    plt.ylabel('True Positive Rate')\n",
        "    plt.title('Receiver operating characteristic example')\n",
        "    plt.legend(loc=\"lower right\")\n",
        "    plt.show()"
      ]
    },
    {
      "cell_type": "code",
      "execution_count": 54,
      "metadata": {
        "collapsed": true,
        "id": "SxhNOJkUZBfq",
        "colab": {
          "base_uri": "https://localhost:8080/",
          "height": 295
        },
        "outputId": "9a6bf158-cac6-4e55-f79a-fbe889692821"
      },
      "outputs": [
        {
          "output_type": "display_data",
          "data": {
            "text/plain": [
              "<Figure size 432x288 with 1 Axes>"
            ],
            "image/png": "[encoded data removed]"
          },
          "metadata": {
            "needs_background": "light"
          }
        }
      ],
      "source": [
        "drawROCCurves(['KNN'],[predictionsKNN],testLabels)"
      ]
    },
    {
      "cell_type": "markdown",
      "metadata": {
        "id": "O_W-NkR9ZBfq"
      },
      "source": [
        "##### Ejercicio\n",
        "\n",
        "Utilizando la función anterior genera la curva ROC de todos los clasificadores que has definido anteriormente."
      ]
    },
    {
      "cell_type": "code",
      "execution_count": 55,
      "metadata": {
        "collapsed": true,
        "id": "cl9Z39fnZBfq",
        "colab": {
          "base_uri": "https://localhost:8080/",
          "height": 295
        },
        "outputId": "4ee6435a-7a57-48ec-e04b-a35fbee331f5"
      },
      "outputs": [
        {
          "output_type": "display_data",
          "data": {
            "text/plain": [
              "<Figure size 432x288 with 1 Axes>"
            ],
            "image/png": "[encoded data removed]"
          },
          "metadata": {
            "needs_background": "light"
          }
        }
      ],
      "source": [
        "drawROCCurves(['Arbol'],[predictionsArbol],testLabels)"
      ]
    },
    {
      "cell_type": "code",
      "source": [
        "drawROCCurves(['RL'],[predictionsRL],testLabels)"
      ],
      "metadata": {
        "colab": {
          "base_uri": "https://localhost:8080/",
          "height": 295
        },
        "id": "HA28QeMNa413",
        "outputId": "7f7662fa-5e99-4972-b6a8-1cd38fa9cdac"
      },
      "execution_count": 56,
      "outputs": [
        {
          "output_type": "display_data",
          "data": {
            "text/plain": [
              "<Figure size 432x288 with 1 Axes>"
            ],
            "image/png": "[encoded data removed]"
          },
          "metadata": {
            "needs_background": "light"
          }
        }
      ]
    },
    {
      "cell_type": "code",
      "source": [
        "drawROCCurves(['Perceptron'],[predictionsPer],testLabels)"
      ],
      "metadata": {
        "colab": {
          "base_uri": "https://localhost:8080/",
          "height": 295
        },
        "id": "Tj3rzmKOa9YO",
        "outputId": "74d7693a-a751-4c77-a29b-a06e8c4c1862"
      },
      "execution_count": 57,
      "outputs": [
        {
          "output_type": "display_data",
          "data": {
            "text/plain": [
              "<Figure size 432x288 with 1 Axes>"
            ],
            "image/png": "[encoded data removed]"
          },
          "metadata": {
            "needs_background": "light"
          }
        }
      ]
    },
    {
      "cell_type": "markdown",
      "metadata": {
        "id": "Kiakl4tcZBfq"
      },
      "source": [
        "### 5. Estudio estadístico\n",
        "\n",
        "Lo último que vamos a ver en esta parte es cómo realizar un estudio estadístico basado en lo que vimos en clase, para ello utilizaremos la función `compare_methods` disponible en el módulo StatisticalAnalysis. Comienza instalando este módulo usando `pip`."
      ]
    },
    {
      "cell_type": "code",
      "execution_count": 58,
      "metadata": {
        "id": "lD2aCUbTZBfr",
        "colab": {
          "base_uri": "https://localhost:8080/"
        },
        "outputId": "612a41e0-94c7-4c95-9eaa-839ca6beb9cc"
      },
      "outputs": [
        {
          "output_type": "stream",
          "name": "stdout",
          "text": [
            "Looking in indexes: https://pypi.org/simple, https://us-python.pkg.dev/colab-wheels/public/simple/\n",
            "Collecting StatisticalAnalysis\n",
            "  Downloading StatisticalAnalysis-0.0.5.tar.gz (12 kB)\n",
            "  Preparing metadata (setup.py) ... \u001b[?25l\u001b[?25hdone\n",
            "Building wheels for collected packages: StatisticalAnalysis\n",
            "  Building wheel for StatisticalAnalysis (setup.py) ... \u001b[?25l\u001b[?25hdone\n",
            "  Created wheel for StatisticalAnalysis: filename=StatisticalAnalysis-0.0.5-py2.py3-none-any.whl size=13119 sha256=c97560df949dc56deab3a45ff93358927c2a748c7e807fa9975c7d506aed8785\n",
            "  Stored in directory: /root/.cache/pip/wheels/f4/ef/8b/a5bb9190fa93ff8e8031232c0cf16c6da6a0d30a7d491ceb46\n",
            "Successfully built StatisticalAnalysis\n",
            "Installing collected packages: StatisticalAnalysis\n",
            "Successfully installed StatisticalAnalysis-0.0.5\n"
          ]
        }
      ],
      "source": [
        "!pip install StatisticalAnalysis"
      ]
    },
    {
      "cell_type": "code",
      "execution_count": 59,
      "metadata": {
        "collapsed": true,
        "id": "kM7wJoQKZBfr"
      },
      "outputs": [],
      "source": [
        "from StatisticalAnalysis import compare_methods"
      ]
    },
    {
      "cell_type": "markdown",
      "metadata": {
        "id": "xNw9lQyyZBfr"
      },
      "source": [
        "Para utilizar este método debemos comenzar indicando los algoritmos a utilizar y las distribuciones de los hiperparámetros a optimizar. Vamos a utilizar los 5 modelos vistos hasta ahora: árboles de decisión, SVMs, KNN, Regresión logística y red neuronal, así que definimos estos modelos y los parámetros a optimizar."
      ]
    },
    {
      "cell_type": "code",
      "execution_count": 70,
      "metadata": {
        "collapsed": true,
        "id": "uUCPjXxHZBfs"
      },
      "outputs": [],
      "source": [
        "# Árbol de decisión\n",
        "clfTree = DecisionTreeClassifier(random_state=84)\n",
        "param_distTree = {\"min_samples_split\": sp_randint(3, 30)}\n",
        "# SVM\n",
        "clfSVC = SVC(random_state=84)\n",
        "param_distSVC = {'C': [1, 10, 100, 1000], 'gamma': [0.001, 0.0001],'kernel': ['rbf'], 'class_weight':['balanced', None]}\n",
        "# KNN\n",
        "clfKNN = KNeighborsClassifier()\n",
        "param_distKNN = {'n_neighbors':sp_randint(3, 30)}\n",
        "# Regresión logística\n",
        "clfLR = LogisticRegression(random_state=84)\n",
        "param_distLR = {'C': [0.1,0.5,1, 10, 100, 1000]}\n",
        "# Red neuronal\n",
        "clfMLP = MLPClassifier(random_state=84)\n",
        "param_distMLP = {'activation': ['identity', 'logistic', 'tanh', 'relu'], 'solver': ['lbfgs', 'sgd', 'adam'],\n",
        "                 'alpha': (0.0001, 1), 'learning_rate': ['constant', 'invscaling', 'adaptive'],\n",
        "                 'hidden_layer_sizes': [(5,2), (3,3,3), (5,3,2), (5,4,3,2)],\n",
        "                 'momentum': [0.9, 0.95, 0.99]}"
      ]
    },
    {
      "cell_type": "markdown",
      "metadata": {
        "id": "pzczpA8mZBfs"
      },
      "source": [
        "Creamos tres listas que contendrán respectivamente:\n",
        "\n",
        "(1) Los algoritmos:"
      ]
    },
    {
      "cell_type": "code",
      "execution_count": 71,
      "metadata": {
        "collapsed": true,
        "id": "qnoTc9dcZBfs"
      },
      "outputs": [],
      "source": [
        "listAlgorithms = [clfTree,clfSVC,clfKNN,clfLR,clfMLP]"
      ]
    },
    {
      "cell_type": "markdown",
      "metadata": {
        "id": "Gjt92SHmZBfs"
      },
      "source": [
        "(2) Los parámetros a optimizar:"
      ]
    },
    {
      "cell_type": "code",
      "execution_count": 72,
      "metadata": {
        "collapsed": true,
        "id": "IFwuUDKQZBft"
      },
      "outputs": [],
      "source": [
        "listParams = [param_distTree,param_distSVC,param_distKNN,param_distLR,param_distMLP]"
      ]
    },
    {
      "cell_type": "markdown",
      "metadata": {
        "id": "6XjvqKMIZBft"
      },
      "source": [
        "(3) Los nombres de los algoritmos:"
      ]
    },
    {
      "cell_type": "code",
      "execution_count": 73,
      "metadata": {
        "collapsed": true,
        "id": "LnMlkyXuZBft"
      },
      "outputs": [],
      "source": [
        "listNames = [\"Arbol\", \"SVM\", \"KNN\", \"LR\", \"MLP\"]"
      ]
    },
    {
      "cell_type": "markdown",
      "metadata": {
        "id": "ETGDl_7uZBft"
      },
      "source": [
        "Invocamos a la función `compare_methods` pasándole el dataset completo, el conjunto de etiquetas completo, las tres listas definidas anteriormente, y la métrica. Los valores válidos\n",
        "para la métrica son accuracy, precision, recall, f1 o auroc. Al invocar a la función anterior se producirá un informe de resultados. "
      ]
    },
    {
      "cell_type": "code",
      "execution_count": 74,
      "metadata": {
        "collapsed": true,
        "id": "kMN78Hv6ZBft",
        "colab": {
          "base_uri": "https://localhost:8080/",
          "height": 1000
        },
        "outputId": "a7769dca-2a31-42ce-de9d-dcf755723bc7"
      },
      "outputs": [
        {
          "output_type": "stream",
          "name": "stdout",
          "text": [
            "temp.csv\n",
            "['Arbol' 'SVM' 'KNN' 'LR' 'MLP']\n",
            "==========================================================\n",
            "Report\n",
            "==========================================================\n",
            "**********************************************************\n",
            "Mean and std\n",
            "**********************************************************\n",
            "Arbol: 0.690822 (0.063171)\n",
            "SVM: 0.690542 (0.063782)\n",
            "KNN: 0.675659 (0.052745)\n",
            "LR: 0.732618 (0.058448)\n",
            "MLP: 0.711598 (0.059331)\n",
            "**********************************************************\n",
            "Statistical tests\n",
            "**********************************************************\n",
            "----------------------------------------------------------\n",
            "Checking parametric conditions \n",
            "----------------------------------------------------------\n",
            "Checking independence \n",
            "Ok\n",
            "Checking normality using Shapiro-Wilk's test for normality, alpha=0.05\n",
            "W: 0.959988, p:0.088788\n",
            "The null hypothesis (normality) is rejected\n",
            "Checking heteroscedasticity using Levene's test, alpha=0.05\n",
            "W: 0.671170, p:0.615408\n",
            "The null hypothesis (heteroscedasticity) is accepted\n",
            "Conditions for a parametric test are not fulfilled, applying a non-parametric test\n",
            "----------------------------------------------------------\n",
            "Working with more than 2 algorithms\n",
            "----------------------------------------------------------\n",
            "----------------------------------------------------------\n",
            "Applying Friedman test\n",
            "----------------------------------------------------------\n",
            "F-value: 4.846154, p-value: 0.0031315783338520253\n",
            "Null hypothesis is rejected; hence, models have different performance\n",
            "Technique      Ranking\n",
            "-----------  ---------\n",
            "LR                4.35\n",
            "MLP               3.55\n",
            "Arbol             2.7\n",
            "SVM               2.25\n",
            "KNN               2.15\n",
            "Winner model: LR\n",
            "----------------------------------------------------------\n",
            "Applying Holm p-value adjustment procedure and analysing effect size\n",
            "----------------------------------------------------------\n",
            "Comparison      Zvalue     p-value    adjusted p-value\n",
            "------------  --------  ----------  ------------------\n",
            "LR vs KNN      3.11127  0.00186285          0.00745139\n",
            "LR vs SVM      2.96985  0.00297947          0.0089384\n",
            "LR vs Arbol    2.33345  0.0196244           0.0392488\n",
            "LR vs MLP      1.13137  0.257899            0.257899\n",
            "There is a significant difference between the models: LR (mean: 0.732618, std: 0.058448) and KNN (mean: 0.675659, std: 0.052745) (Cohen's d=0.9706591465110834, Large)\n",
            "There is a significant difference between the models: LR (mean: 0.732618, std: 0.058448) and SVM (mean: 0.690542, std: 0.063782) (Cohen's d=0.6525226386939998, Large)\n",
            "There is a significant difference between the models: LR (mean: 0.732618, std: 0.058448) and Arbol (mean: 0.690822, std: 0.063171) (Cohen's d=0.6515603075798302, Large)\n",
            "There is a significant difference between the models: LR (mean: 0.732618, std: 0.058448) and MLP (mean: 0.711598, std: 0.059331) (Cohen's d=0.3386106875135677, Medium)\n",
            "Eta squared: 0.099503 (Large)\n"
          ]
        },
        {
          "output_type": "display_data",
          "data": {
            "text/plain": [
              "<Figure size 432x288 with 1 Axes>"
            ],
            "image/png": "[encoded data removed]"
          },
          "metadata": {
            "needs_background": "light"
          }
        }
      ],
      "source": [
        "compare_methods(X,Y,listAlgorithms,listParams,listNames,metric='auroc')"
      ]
    },
    {
      "cell_type": "markdown",
      "metadata": {
        "id": "ksneayfCZBft"
      },
      "source": [
        "##### Preguntas\n",
        "\n",
        "¿Qué tipo de tests se ha aplicado? ¿Paramétrico o no paramétrico? ¿por qué?"
      ]
    },
    {
      "cell_type": "markdown",
      "metadata": {
        "collapsed": true,
        "id": "dXb26yMPZBfu"
      },
      "source": [
        "Respuesta. "
      ]
    },
    {
      "cell_type": "markdown",
      "source": [
        "Se an aplicado tests no parametricos porque no se cumpian las condiciones para los tests parametricos."
      ],
      "metadata": {
        "id": "_YerwRRGdkx2"
      }
    },
    {
      "cell_type": "markdown",
      "metadata": {
        "id": "VIAt0MuuZBfu"
      },
      "source": [
        "¿Cuál ha sido el modelo ganador?"
      ]
    },
    {
      "cell_type": "markdown",
      "metadata": {
        "collapsed": true,
        "id": "rE3Rw07xZBfu"
      },
      "source": [
        "Respuesta. "
      ]
    },
    {
      "cell_type": "markdown",
      "source": [
        "El modelo de Regresion Logistica."
      ],
      "metadata": {
        "id": "YjbR5G0ZdYFG"
      }
    },
    {
      "cell_type": "markdown",
      "metadata": {
        "id": "DyDt3ldIZBfu"
      },
      "source": [
        "¿Hay diferencias significativas con los otros modelos?"
      ]
    },
    {
      "cell_type": "markdown",
      "metadata": {
        "collapsed": true,
        "id": "A9a3bce6ZBfu"
      },
      "source": [
        "Respuesta. "
      ]
    },
    {
      "cell_type": "markdown",
      "source": [
        "Si."
      ],
      "metadata": {
        "id": "Ge78C78Pd22g"
      }
    },
    {
      "cell_type": "markdown",
      "metadata": {
        "id": "-GtpTHaeZBfu"
      },
      "source": [
        "## Evaluando la clasificación multiclase\n",
        "\n",
        "Todo lo que hemos visto para clasificación binaria también puede ser aplicado a la clasificación multiclase."
      ]
    },
    {
      "cell_type": "markdown",
      "metadata": {
        "id": "ceieNGVaZBfv"
      },
      "source": [
        "### 0. Carga de datos\n",
        "\n",
        "Carga los datos del fichero iris.csv como hemos hecho en prácticas anteriores."
      ]
    },
    {
      "cell_type": "code",
      "source": [
        "!wget https://raw.githubusercontent.com/IA1819/Datasets/master/iris.csv -O iris.csv"
      ],
      "metadata": {
        "colab": {
          "base_uri": "https://localhost:8080/"
        },
        "id": "j48hW67ce0qr",
        "outputId": "5240c0a2-43ca-4268-aab3-fa7e95c79a01"
      },
      "execution_count": 75,
      "outputs": [
        {
          "output_type": "stream",
          "name": "stdout",
          "text": [
            "--2023-03-27 14:31:41--  https://raw.githubusercontent.com/IA1819/Datasets/master/iris.csv\n",
            "Resolving raw.githubusercontent.com (raw.githubusercontent.com)... 185.199.109.133, 185.199.110.133, 185.199.111.133, ...\n",
            "Connecting to raw.githubusercontent.com (raw.githubusercontent.com)|185.199.109.133|:443... connected.\n",
            "HTTP request sent, awaiting response... 200 OK\n",
            "Length: 4606 (4.5K) [text/plain]\n",
            "Saving to: ‘iris.csv’\n",
            "\n",
            "\riris.csv              0%[                    ]       0  --.-KB/s               \riris.csv            100%[===================>]   4.50K  --.-KB/s    in 0s      \n",
            "\n",
            "2023-03-27 14:31:41 (31.9 MB/s) - ‘iris.csv’ saved [4606/4606]\n",
            "\n"
          ]
        }
      ]
    },
    {
      "cell_type": "code",
      "execution_count": 76,
      "metadata": {
        "collapsed": true,
        "id": "pn9L-ECXZBfv"
      },
      "outputs": [],
      "source": [
        "df = pd.read_csv('iris.csv')\n",
        "Xiris = df.values[:,:-1]\n",
        "Yiris = df.values[:,-1]"
      ]
    },
    {
      "cell_type": "markdown",
      "metadata": {
        "id": "LYm7jyGmZBfv"
      },
      "source": [
        "### 1. Partición de conjunto de entrenamiento y de test\n",
        "\n",
        "Al igual que antes partimos el conjunto de datos en entrenamiento y test utilizando la función `train_test_split`."
      ]
    },
    {
      "cell_type": "code",
      "execution_count": 77,
      "metadata": {
        "collapsed": true,
        "id": "wou9m2kHZBfv"
      },
      "outputs": [],
      "source": [
        "(trainIrisData, testIrisData, trainIrisLabels, testIrisLabels) = train_test_split(Xiris,Yiris,test_size=0.25, random_state=42)"
      ]
    },
    {
      "cell_type": "markdown",
      "metadata": {
        "id": "SHGegdJlZBfv"
      },
      "source": [
        "### 2. Entrenando distintos algoritmos y seleccionando los hiperparámetros\n",
        "\n",
        "En este caso vamos a entrenar un modelo KNN y seleccionar el hiperparámetro k utilizando el proceso de validación cruzada."
      ]
    },
    {
      "cell_type": "code",
      "execution_count": 78,
      "metadata": {
        "collapsed": true,
        "id": "zsYU5zsxZBfv",
        "colab": {
          "base_uri": "https://localhost:8080/",
          "height": 300
        },
        "outputId": "470e8ceb-de90-4d34-e9c8-98003a6aa92f"
      },
      "outputs": [
        {
          "output_type": "stream",
          "name": "stdout",
          "text": [
            "k=1, Precisión: 0.94 (+/- 0.14)\n",
            "k=3, Precisión: 0.95 (+/- 0.14)\n",
            "k=5, Precisión: 0.95 (+/- 0.14)\n",
            "k=7, Precisión: 0.94 (+/- 0.14)\n",
            "k=9, Precisión: 0.94 (+/- 0.14)\n",
            "k=11, Precisión: 0.95 (+/- 0.15)\n",
            "k=13, Precisión: 0.95 (+/- 0.15)\n",
            "k=15, Precisión: 0.95 (+/- 0.15)\n",
            "k=17, Precisión: 0.95 (+/- 0.15)\n",
            "k=19, Precisión: 0.94 (+/- 0.14)\n",
            "k=21, Precisión: 0.94 (+/- 0.14)\n",
            "k=23, Precisión: 0.93 (+/- 0.16)\n",
            "k=25, Precisión: 0.94 (+/- 0.14)\n"
          ]
        },
        {
          "output_type": "execute_result",
          "data": {
            "text/plain": [
              "KNeighborsClassifier(n_neighbors=3)"
            ],
            "text/html": [
              "<style>#sk-container-id-6 {color: black;background-color: white;}#sk-container-id-6 pre{padding: 0;}#sk-container-id-6 div.sk-toggleable {background-color: white;}#sk-container-id-6 label.sk-toggleable__label {cursor: pointer;display: block;width: 100%;margin-bottom: 0;padding: 0.3em;box-sizing: border-box;text-align: center;}#sk-container-id-6 label.sk-toggleable__label-arrow:before {content: \"▸\";float: left;margin-right: 0.25em;color: #696969;}#sk-container-id-6 label.sk-toggleable__label-arrow:hover:before {color: black;}#sk-container-id-6 div.sk-estimator:hover label.sk-toggleable__label-arrow:before {color: black;}#sk-container-id-6 div.sk-toggleable__content {max-height: 0;max-width: 0;overflow: hidden;text-align: left;background-color: #f0f8ff;}#sk-container-id-6 div.sk-toggleable__content pre {margin: 0.2em;color: black;border-radius: 0.25em;background-color: #f0f8ff;}#sk-container-id-6 input.sk-toggleable__control:checked~div.sk-toggleable__content {max-height: 200px;max-width: 100%;overflow: auto;}#sk-container-id-6 input.sk-toggleable__control:checked~label.sk-toggleable__label-arrow:before {content: \"▾\";}#sk-container-id-6 div.sk-estimator input.sk-toggleable__control:checked~label.sk-toggleable__label {background-color: #d4ebff;}#sk-container-id-6 div.sk-label input.sk-toggleable__control:checked~label.sk-toggleable__label {background-color: #d4ebff;}#sk-container-id-6 input.sk-hidden--visually {border: 0;clip: rect(1px 1px 1px 1px);clip: rect(1px, 1px, 1px, 1px);height: 1px;margin: -1px;overflow: hidden;padding: 0;position: absolute;width: 1px;}#sk-container-id-6 div.sk-estimator {font-family: monospace;background-color: #f0f8ff;border: 1px dotted black;border-radius: 0.25em;box-sizing: border-box;margin-bottom: 0.5em;}#sk-container-id-6 div.sk-estimator:hover {background-color: #d4ebff;}#sk-container-id-6 div.sk-parallel-item::after {content: \"\";width: 100%;border-bottom: 1px solid gray;flex-grow: 1;}#sk-container-id-6 div.sk-label:hover label.sk-toggleable__label {background-color: #d4ebff;}#sk-container-id-6 div.sk-serial::before {content: \"\";position: absolute;border-left: 1px solid gray;box-sizing: border-box;top: 0;bottom: 0;left: 50%;z-index: 0;}#sk-container-id-6 div.sk-serial {display: flex;flex-direction: column;align-items: center;background-color: white;padding-right: 0.2em;padding-left: 0.2em;position: relative;}#sk-container-id-6 div.sk-item {position: relative;z-index: 1;}#sk-container-id-6 div.sk-parallel {display: flex;align-items: stretch;justify-content: center;background-color: white;position: relative;}#sk-container-id-6 div.sk-item::before, #sk-container-id-6 div.sk-parallel-item::before {content: \"\";position: absolute;border-left: 1px solid gray;box-sizing: border-box;top: 0;bottom: 0;left: 50%;z-index: -1;}#sk-container-id-6 div.sk-parallel-item {display: flex;flex-direction: column;z-index: 1;position: relative;background-color: white;}#sk-container-id-6 div.sk-parallel-item:first-child::after {align-self: flex-end;width: 50%;}#sk-container-id-6 div.sk-parallel-item:last-child::after {align-self: flex-start;width: 50%;}#sk-container-id-6 div.sk-parallel-item:only-child::after {width: 0;}#sk-container-id-6 div.sk-dashed-wrapped {border: 1px dashed gray;margin: 0 0.4em 0.5em 0.4em;box-sizing: border-box;padding-bottom: 0.4em;background-color: white;}#sk-container-id-6 div.sk-label label {font-family: monospace;font-weight: bold;display: inline-block;line-height: 1.2em;}#sk-container-id-6 div.sk-label-container {text-align: center;}#sk-container-id-6 div.sk-container {/* jupyter's `normalize.less` sets `[hidden] { display: none; }` but bootstrap.min.css set `[hidden] { display: none !important; }` so we also need the `!important` here to be able to override the default hidden behavior on the sphinx rendered scikit-learn.org. See: https://github.com/scikit-learn/scikit-learn/issues/21755 */display: inline-block !important;position: relative;}#sk-container-id-6 div.sk-text-repr-fallback {display: none;}</style><div id=\"sk-container-id-6\" class=\"sk-top-container\"><div class=\"sk-text-repr-fallback\"><pre>KNeighborsClassifier(n_neighbors=3)</pre><b>In a Jupyter environment, please rerun this cell to show the HTML representation or trust the notebook. <br />On GitHub, the HTML representation is unable to render, please try loading this page with nbviewer.org.</b></div><div class=\"sk-container\" hidden><div class=\"sk-item\"><div class=\"sk-estimator sk-toggleable\"><input class=\"sk-toggleable__control sk-hidden--visually\" id=\"sk-estimator-id-6\" type=\"checkbox\" checked><label for=\"sk-estimator-id-6\" class=\"sk-toggleable__label sk-toggleable__label-arrow\">KNeighborsClassifier</label><div class=\"sk-toggleable__content\"><pre>KNeighborsClassifier(n_neighbors=3)</pre></div></div></div></div></div>"
            ]
          },
          "metadata": {},
          "execution_count": 78
        }
      ],
      "source": [
        "for k in range(1,26,2):\n",
        "    modelKNNIris = KNeighborsClassifier(n_neighbors=k)\n",
        "    scores = cross_val_score(modelKNNIris,trainIrisData,trainIrisLabels,cv=10)\n",
        "    print(\"k=%d, Precisión: %0.2f (+/- %0.2f)\" % (k, scores.mean(), scores.std() * 2))\n",
        "\n",
        "\n",
        "modelKNNIris = KNeighborsClassifier(n_neighbors=3)\n",
        "modelKNNIris.fit(trainIrisData,trainIrisLabels)"
      ]
    },
    {
      "cell_type": "markdown",
      "metadata": {
        "id": "rFqN647EZBfv"
      },
      "source": [
        "### 3. Evaluando los algoritmos en el conjunto de test"
      ]
    },
    {
      "cell_type": "code",
      "execution_count": 79,
      "metadata": {
        "collapsed": true,
        "id": "HrvS6SqXZBfv",
        "colab": {
          "base_uri": "https://localhost:8080/"
        },
        "outputId": "74154c5c-cbd9-4a35-a163-aa7a6ac6994c"
      },
      "outputs": [
        {
          "output_type": "stream",
          "name": "stdout",
          "text": [
            "EVALUACIÓN EN CONJUNTO DE TEST USANDO KNN\n",
            "                 precision    recall  f1-score   support\n",
            "\n",
            "    Iris-setosa       1.00      1.00      1.00        15\n",
            "Iris-versicolor       1.00      1.00      1.00        11\n",
            " Iris-virginica       1.00      1.00      1.00        12\n",
            "\n",
            "       accuracy                           1.00        38\n",
            "      macro avg       1.00      1.00      1.00        38\n",
            "   weighted avg       1.00      1.00      1.00        38\n",
            "\n"
          ]
        }
      ],
      "source": [
        "print(\"EVALUACIÓN EN CONJUNTO DE TEST USANDO KNN\")\n",
        "predictionsKNNIris = modelKNNIris.predict(testIrisData)\n",
        "print(classification_report(testIrisLabels, predictionsKNNIris))"
      ]
    },
    {
      "cell_type": "markdown",
      "metadata": {
        "id": "8G_Z7HbbZBfw"
      },
      "source": [
        "En este caso las curvas ROC no tienen tanto sentido, pero sí que puede ser útil la matriz de confusión."
      ]
    },
    {
      "cell_type": "code",
      "execution_count": 80,
      "metadata": {
        "collapsed": true,
        "id": "UfLS2vehZBfw",
        "colab": {
          "base_uri": "https://localhost:8080/"
        },
        "outputId": "5c590461-84f8-4530-bddb-990fab878646"
      },
      "outputs": [
        {
          "output_type": "stream",
          "name": "stdout",
          "text": [
            "MATRIZ DE CONFUSIÓN USANDO KNN\n",
            "[[15  0  0]\n",
            " [ 0 11  0]\n",
            " [ 0  0 12]]\n"
          ]
        }
      ],
      "source": [
        "print(\"MATRIZ DE CONFUSIÓN USANDO KNN\")\n",
        "from sklearn.metrics import confusion_matrix\n",
        "print(confusion_matrix(testIrisLabels, predictionsKNNIris))"
      ]
    },
    {
      "cell_type": "markdown",
      "metadata": {
        "id": "YI1Ujeh-ZBfw"
      },
      "source": [
        "##### Ejercicio\n",
        "Repite el estudio estadístico hecho en el caso binario, utilizando como  métrica la accuracy."
      ]
    },
    {
      "cell_type": "code",
      "execution_count": 81,
      "metadata": {
        "collapsed": true,
        "id": "-hU8kSlHZBfw",
        "colab": {
          "base_uri": "https://localhost:8080/",
          "height": 1000
        },
        "outputId": "d93e8e3f-780b-4430-ee60-542480af554e"
      },
      "outputs": [
        {
          "output_type": "stream",
          "name": "stdout",
          "text": [
            "temp.csv\n",
            "['Arbol' 'SVM' 'KNN' 'LR' 'MLP']\n",
            "==========================================================\n",
            "Report\n",
            "==========================================================\n",
            "**********************************************************\n",
            "Mean and std\n",
            "**********************************************************\n",
            "Arbol: 0.946667 (0.049889)\n",
            "SVM: 0.973333 (0.044222)\n",
            "KNN: 0.960000 (0.053333)\n",
            "LR: 0.960000 (0.053333)\n",
            "MLP: 0.973333 (0.044222)\n",
            "**********************************************************\n",
            "Statistical tests\n",
            "**********************************************************\n",
            "----------------------------------------------------------\n",
            "Checking parametric conditions \n",
            "----------------------------------------------------------\n",
            "Checking independence \n",
            "Ok\n",
            "Checking normality using Shapiro-Wilk's test for normality, alpha=0.05\n",
            "W: 0.700581, p:0.000000\n",
            "The null hypothesis (normality) is rejected\n",
            "Checking heteroscedasticity using Levene's test, alpha=0.05\n",
            "W: 0.225000, p:0.923025\n",
            "The null hypothesis (heteroscedasticity) is accepted\n",
            "Conditions for a parametric test are not fulfilled, applying a non-parametric test\n",
            "----------------------------------------------------------\n",
            "Working with more than 2 algorithms\n",
            "----------------------------------------------------------\n",
            "----------------------------------------------------------\n",
            "Applying Friedman test\n",
            "----------------------------------------------------------\n",
            "F-value: 0.677419, p-value: 0.6120705913717833\n",
            "Null hypothesis is accepted; hence, we can't say that there is a significant difference in the performance of the models\n",
            "----------------------------------------------------------\n",
            "Analysing effect size\n",
            "----------------------------------------------------------\n",
            "We take the model with the best mean (SVM, mean: 0.973333) and compare it with the other models: \n",
            "Comparing effect size of SVM and Arbol: Cohen's d=0.5366563145999507, Large\n",
            "Comparing effect size of SVM and KNN: Cohen's d=0.25819888974716276, Medium\n",
            "Comparing effect size of SVM and LR: Cohen's d=0.25819888974716276, Medium\n",
            "Comparing effect size of SVM and MLP: Cohen's d=2.3817512693231426e-15, Small\n",
            "Eta squared: 0.039548 (Medium)\n"
          ]
        },
        {
          "output_type": "display_data",
          "data": {
            "text/plain": [
              "<Figure size 432x288 with 1 Axes>"
            ],
            "image/png": "[encoded data removed]"
          },
          "metadata": {
            "needs_background": "light"
          }
        }
      ],
      "source": [
        "compare_methods(Xiris,Yiris,listAlgorithms,listParams,listNames,metric='accuracy')"
      ]
    },
    {
      "cell_type": "markdown",
      "metadata": {
        "id": "-hxuUP8EZBfw"
      },
      "source": [
        "##### Preguntas\n",
        "\n",
        "¿Qué tipo de test se ha aplicado? ¿Paramétrico o no paramétrico? ¿Ha habido algún clasificador que es significativamente mejor que el resto? ¿Cuál?\n",
        "\n"
      ]
    },
    {
      "cell_type": "markdown",
      "metadata": {
        "collapsed": true,
        "id": "94T7NrB4ZBfw"
      },
      "source": [
        "Respuesta."
      ]
    },
    {
      "cell_type": "markdown",
      "source": [
        "Se an aplicado tests no parametricos. No podemos decir que a habido ningun clasificador que sea significativamente mejor que otro."
      ],
      "metadata": {
        "id": "uCIYuEHNf4Ay"
      }
    },
    {
      "cell_type": "markdown",
      "metadata": {
        "id": "m44JAEbjZBfw"
      },
      "source": [
        "Guarda este fichero con tus soluciones a los distintos ejercicios usando la opción *\"Save in Github...\"*. "
      ]
    }
  ],
  "metadata": {
    "kernelspec": {
      "display_name": "Python 3",
      "language": "python",
      "name": "python3"
    },
    "language_info": {
      "codemirror_mode": {
        "name": "ipython",
        "version": 3
      },
      "file_extension": ".py",
      "mimetype": "text/x-python",
      "name": "python",
      "nbconvert_exporter": "python",
      "pygments_lexer": "ipython3",
      "version": "3.6.7"
    },
    "colab": {
      "name": "practica6.ipynb",
      "provenance": [],
      "include_colab_link": true
    }
  },
  "nbformat": 4,
  "nbformat_minor": 0
}